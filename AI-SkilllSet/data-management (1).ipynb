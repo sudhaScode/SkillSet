{
 "cells": [
  {
   "cell_type": "code",
   "execution_count": 2,
   "id": "dba61dd5-ca20-4cc2-ab9a-dcf1812c0b9e",
   "metadata": {
    "tags": []
   },
   "outputs": [
    {
     "name": "stdout",
     "output_type": "stream",
     "text": [
      "Collecting google-cloud-discoveryengine\n",
      "  Downloading google_cloud_discoveryengine-0.11.10-py3-none-any.whl.metadata (5.2 kB)\n",
      "Collecting humanize\n",
      "  Downloading humanize-4.9.0-py3-none-any.whl.metadata (7.9 kB)\n",
      "Requirement already satisfied: google-api-core!=2.0.*,!=2.1.*,!=2.10.*,!=2.2.*,!=2.3.*,!=2.4.*,!=2.5.*,!=2.6.*,!=2.7.*,!=2.8.*,!=2.9.*,<3.0.0dev,>=1.34.1 in /opt/conda/lib/python3.10/site-packages (from google-api-core[grpc]!=2.0.*,!=2.1.*,!=2.10.*,!=2.2.*,!=2.3.*,!=2.4.*,!=2.5.*,!=2.6.*,!=2.7.*,!=2.8.*,!=2.9.*,<3.0.0dev,>=1.34.1->google-cloud-discoveryengine) (1.34.1)\n",
      "Requirement already satisfied: google-auth!=2.24.0,!=2.25.0,<3.0.0dev,>=2.14.1 in /opt/conda/lib/python3.10/site-packages (from google-cloud-discoveryengine) (2.28.1)\n",
      "Requirement already satisfied: proto-plus<2.0.0dev,>=1.22.3 in /opt/conda/lib/python3.10/site-packages (from google-cloud-discoveryengine) (1.23.0)\n",
      "Requirement already satisfied: protobuf!=3.20.0,!=3.20.1,!=4.21.0,!=4.21.1,!=4.21.2,!=4.21.3,!=4.21.4,!=4.21.5,<5.0.0dev,>=3.19.5 in /opt/conda/lib/python3.10/site-packages (from google-cloud-discoveryengine) (3.20.3)\n",
      "Requirement already satisfied: googleapis-common-protos<2.0dev,>=1.56.2 in /opt/conda/lib/python3.10/site-packages (from google-api-core!=2.0.*,!=2.1.*,!=2.10.*,!=2.2.*,!=2.3.*,!=2.4.*,!=2.5.*,!=2.6.*,!=2.7.*,!=2.8.*,!=2.9.*,<3.0.0dev,>=1.34.1->google-api-core[grpc]!=2.0.*,!=2.1.*,!=2.10.*,!=2.2.*,!=2.3.*,!=2.4.*,!=2.5.*,!=2.6.*,!=2.7.*,!=2.8.*,!=2.9.*,<3.0.0dev,>=1.34.1->google-cloud-discoveryengine) (1.62.0)\n",
      "Requirement already satisfied: requests<3.0.0dev,>=2.18.0 in /opt/conda/lib/python3.10/site-packages (from google-api-core!=2.0.*,!=2.1.*,!=2.10.*,!=2.2.*,!=2.3.*,!=2.4.*,!=2.5.*,!=2.6.*,!=2.7.*,!=2.8.*,!=2.9.*,<3.0.0dev,>=1.34.1->google-api-core[grpc]!=2.0.*,!=2.1.*,!=2.10.*,!=2.2.*,!=2.3.*,!=2.4.*,!=2.5.*,!=2.6.*,!=2.7.*,!=2.8.*,!=2.9.*,<3.0.0dev,>=1.34.1->google-cloud-discoveryengine) (2.31.0)\n",
      "Requirement already satisfied: grpcio<2.0dev,>=1.33.2 in /opt/conda/lib/python3.10/site-packages (from google-api-core[grpc]!=2.0.*,!=2.1.*,!=2.10.*,!=2.2.*,!=2.3.*,!=2.4.*,!=2.5.*,!=2.6.*,!=2.7.*,!=2.8.*,!=2.9.*,<3.0.0dev,>=1.34.1->google-cloud-discoveryengine) (1.62.0)\n",
      "Requirement already satisfied: grpcio-status<2.0dev,>=1.33.2 in /opt/conda/lib/python3.10/site-packages (from google-api-core[grpc]!=2.0.*,!=2.1.*,!=2.10.*,!=2.2.*,!=2.3.*,!=2.4.*,!=2.5.*,!=2.6.*,!=2.7.*,!=2.8.*,!=2.9.*,<3.0.0dev,>=1.34.1->google-cloud-discoveryengine) (1.48.2)\n",
      "Requirement already satisfied: cachetools<6.0,>=2.0.0 in /opt/conda/lib/python3.10/site-packages (from google-auth!=2.24.0,!=2.25.0,<3.0.0dev,>=2.14.1->google-cloud-discoveryengine) (5.3.3)\n",
      "Requirement already satisfied: pyasn1-modules>=0.2.1 in /opt/conda/lib/python3.10/site-packages (from google-auth!=2.24.0,!=2.25.0,<3.0.0dev,>=2.14.1->google-cloud-discoveryengine) (0.3.0)\n",
      "Requirement already satisfied: rsa<5,>=3.1.4 in /opt/conda/lib/python3.10/site-packages (from google-auth!=2.24.0,!=2.25.0,<3.0.0dev,>=2.14.1->google-cloud-discoveryengine) (4.9)\n",
      "Requirement already satisfied: pyasn1<0.6.0,>=0.4.6 in /opt/conda/lib/python3.10/site-packages (from pyasn1-modules>=0.2.1->google-auth!=2.24.0,!=2.25.0,<3.0.0dev,>=2.14.1->google-cloud-discoveryengine) (0.5.1)\n",
      "Requirement already satisfied: charset-normalizer<4,>=2 in /opt/conda/lib/python3.10/site-packages (from requests<3.0.0dev,>=2.18.0->google-api-core!=2.0.*,!=2.1.*,!=2.10.*,!=2.2.*,!=2.3.*,!=2.4.*,!=2.5.*,!=2.6.*,!=2.7.*,!=2.8.*,!=2.9.*,<3.0.0dev,>=1.34.1->google-api-core[grpc]!=2.0.*,!=2.1.*,!=2.10.*,!=2.2.*,!=2.3.*,!=2.4.*,!=2.5.*,!=2.6.*,!=2.7.*,!=2.8.*,!=2.9.*,<3.0.0dev,>=1.34.1->google-cloud-discoveryengine) (3.3.2)\n",
      "Requirement already satisfied: idna<4,>=2.5 in /opt/conda/lib/python3.10/site-packages (from requests<3.0.0dev,>=2.18.0->google-api-core!=2.0.*,!=2.1.*,!=2.10.*,!=2.2.*,!=2.3.*,!=2.4.*,!=2.5.*,!=2.6.*,!=2.7.*,!=2.8.*,!=2.9.*,<3.0.0dev,>=1.34.1->google-api-core[grpc]!=2.0.*,!=2.1.*,!=2.10.*,!=2.2.*,!=2.3.*,!=2.4.*,!=2.5.*,!=2.6.*,!=2.7.*,!=2.8.*,!=2.9.*,<3.0.0dev,>=1.34.1->google-cloud-discoveryengine) (3.6)\n",
      "Requirement already satisfied: urllib3<3,>=1.21.1 in /opt/conda/lib/python3.10/site-packages (from requests<3.0.0dev,>=2.18.0->google-api-core!=2.0.*,!=2.1.*,!=2.10.*,!=2.2.*,!=2.3.*,!=2.4.*,!=2.5.*,!=2.6.*,!=2.7.*,!=2.8.*,!=2.9.*,<3.0.0dev,>=1.34.1->google-api-core[grpc]!=2.0.*,!=2.1.*,!=2.10.*,!=2.2.*,!=2.3.*,!=2.4.*,!=2.5.*,!=2.6.*,!=2.7.*,!=2.8.*,!=2.9.*,<3.0.0dev,>=1.34.1->google-cloud-discoveryengine) (1.26.18)\n",
      "Requirement already satisfied: certifi>=2017.4.17 in /opt/conda/lib/python3.10/site-packages (from requests<3.0.0dev,>=2.18.0->google-api-core!=2.0.*,!=2.1.*,!=2.10.*,!=2.2.*,!=2.3.*,!=2.4.*,!=2.5.*,!=2.6.*,!=2.7.*,!=2.8.*,!=2.9.*,<3.0.0dev,>=1.34.1->google-api-core[grpc]!=2.0.*,!=2.1.*,!=2.10.*,!=2.2.*,!=2.3.*,!=2.4.*,!=2.5.*,!=2.6.*,!=2.7.*,!=2.8.*,!=2.9.*,<3.0.0dev,>=1.34.1->google-cloud-discoveryengine) (2024.2.2)\n",
      "Downloading google_cloud_discoveryengine-0.11.10-py3-none-any.whl (1.5 MB)\n",
      "\u001b[2K   \u001b[90m━━━━━━━━━━━━━━━━━━━━━━━━━━━━━━━━━━━━━━━━\u001b[0m \u001b[32m1.5/1.5 MB\u001b[0m \u001b[31m41.4 MB/s\u001b[0m eta \u001b[36m0:00:00\u001b[0m:00:01\u001b[0m\n",
      "\u001b[?25hDownloading humanize-4.9.0-py3-none-any.whl (126 kB)\n",
      "\u001b[2K   \u001b[90m━━━━━━━━━━━━━━━━━━━━━━━━━━━━━━━━━━━━━━━━\u001b[0m \u001b[32m126.8/126.8 kB\u001b[0m \u001b[31m8.9 MB/s\u001b[0m eta \u001b[36m0:00:00\u001b[0m\n",
      "\u001b[?25hInstalling collected packages: humanize, google-cloud-discoveryengine\n",
      "Successfully installed google-cloud-discoveryengine-0.11.10 humanize-4.9.0\n",
      "\u001b[33mWARNING: Running pip as the 'root' user can result in broken permissions and conflicting behaviour with the system package manager. It is recommended to use a virtual environment instead: https://pip.pypa.io/warnings/venv\u001b[0m\u001b[33m\n",
      "\u001b[0mNote: you may need to restart the kernel to use updated packages.\n"
     ]
    }
   ],
   "source": [
    "pip install --upgrade google-cloud-discoveryengine humanize"
   ]
  },
  {
   "cell_type": "markdown",
   "id": "593f5b3f-e1c2-4c20-bb0d-100df685fd78",
   "metadata": {},
   "source": [
    "Enable APIs\n",
    " In this task, you need to enable the Dialogflow API.\n",
    "\n",
    " To enable the Dialogflow API, follow these steps:\n",
    "\n",
    " Type Dialogflow API into the top search bar of the Google Cloud console, choose the selected result as shown below, and continue. It enables the conservation flow interfaces like chats, video \n",
    " \n",
    " \n",
    " Install prerequisites\n",
    "In the Google Cloud console, navigate to Vertex AI Workbench. In the top search bar of the Google Cloud console, enter Vertex AI Workbench, and click on the first result."
   ]
  },
  {
   "cell_type": "code",
   "execution_count": 1,
   "id": "d6bf2616-a42b-4aff-b2f2-fcde887f1492",
   "metadata": {
    "tags": []
   },
   "outputs": [],
   "source": [
    "import IPython\n"
   ]
  },
  {
   "cell_type": "code",
   "execution_count": 4,
   "id": "cdf05e9a-e46a-4d55-a325-e5640da9aea5",
   "metadata": {
    "tags": []
   },
   "outputs": [
    {
     "data": {
      "text/plain": [
       "{'status': 'ok', 'restart': True}"
      ]
     },
     "execution_count": 4,
     "metadata": {},
     "output_type": "execute_result"
    }
   ],
   "source": [
    "app = IPython.Application.instance()\n",
    "app.kernel.do_shutdown(True)"
   ]
  },
  {
   "cell_type": "markdown",
   "id": "1f1b4a11-c397-4f52-8a7d-72ac434bbfa5",
   "metadata": {},
   "source": [
    "# Helper function\n",
    "1.Run the following code in the next cell to setup the helper methods."
   ]
  },
  {
   "cell_type": "code",
   "execution_count": 1,
   "id": "f49d1967-2c82-42bc-8816-f9ab7e86a5cd",
   "metadata": {
    "tags": []
   },
   "outputs": [],
   "source": [
    "import humanize\n",
    "import time\n",
    "import re\n",
    "from typing import List, Optional\n",
    "\n",
    "from google.api_core.client_options import ClientOptions\n",
    "from google.cloud import discoveryengine_v1beta as discoveryengine\n",
    "\n",
    "\n",
    "def _call_list_documents(\n",
    "    project_id: str, location: str, datastore_id: str, page_token: Optional[str] = None\n",
    ") -> discoveryengine.ListDocumentsResponse:\n",
    "    \"\"\"Build the List Docs Request payload.\"\"\"\n",
    "    client_options = (\n",
    "        ClientOptions(\n",
    "            api_endpoint=f\"{location}-discoveryengine.googleapis.com\")\n",
    "        if location != \"global\"\n",
    "        else None\n",
    "    )\n",
    "    client = discoveryengine.DocumentServiceClient(\n",
    "        client_options=client_options)\n",
    "\n",
    "    request = discoveryengine.ListDocumentsRequest(\n",
    "        parent=client.branch_path(\n",
    "            project_id, location, datastore_id, \"default_branch\"\n",
    "        ),\n",
    "        page_size=1000,\n",
    "        page_token=page_token,\n",
    "    )\n",
    "\n",
    "    return client.list_documents(request=request)\n",
    "\n",
    "\n",
    "def list_documents(\n",
    "    project_id: str, location: str, datastore_id: str, rate_limit: int = 1\n",
    ") -> List[discoveryengine.Document]:\n",
    "    \"\"\"Gets a list of docs in a datastore.\"\"\"\n",
    "\n",
    "    res = _call_list_documents(project_id, location, datastore_id)\n",
    "\n",
    "    # setup the list with the first batch of docs\n",
    "    docs = res.documents\n",
    "\n",
    "    while res.next_page_token:\n",
    "        # implement a rate_limit to prevent quota exhaustion\n",
    "        time.sleep(rate_limit)\n",
    "\n",
    "        res = _call_list_documents(\n",
    "            project_id, location, datastore_id, res.next_page_token\n",
    "        )\n",
    "        docs.extend(res.documents)\n",
    "\n",
    "    return docs\n",
    "\n",
    "\n",
    "def list_indexed_urls(\n",
    "    docs: Optional[List[discoveryengine.Document]] = None,\n",
    "    project_id: str = None,\n",
    "    location: str = None,\n",
    "    datastore_id: str = None,\n",
    ") -> List[str]:\n",
    "    \"\"\"Get the list of docs in data store, then parse to only urls.\"\"\"\n",
    "    if not docs:\n",
    "        docs = list_documents(project_id, location, datastore_id)\n",
    "    urls = [doc.content.uri for doc in docs]\n",
    "\n",
    "    return urls\n",
    "\n",
    "\n",
    "def search_url(urls: List[str], url: str) -> None:\n",
    "    \"\"\"Searches a url in a list of urls.\"\"\"\n",
    "    for item in urls:\n",
    "        if url in item:\n",
    "            print(item)\n",
    "\n",
    "\n",
    "def search_doc_id(\n",
    "    doc_id: str,\n",
    "    docs: Optional[List[discoveryengine.Document]] = None,\n",
    "    project_id: str = None,\n",
    "    location: str = None,\n",
    "    datastore_id: str = None,\n",
    ") -> None:\n",
    "    \"\"\"Searches a doc_id in a list of docs.\"\"\"\n",
    "    if not docs:\n",
    "        docs = list_documents(project_id, location, datastore_id)\n",
    "\n",
    "    doc_found = False\n",
    "    for doc in docs:\n",
    "        if doc.parent_document_id == doc_id:\n",
    "            doc_found = True\n",
    "            print(doc)\n",
    "\n",
    "    if not doc_found:\n",
    "        print(f\"Document not found for provided Doc ID: `{doc_id}`\")\n",
    "\n",
    "\n",
    "def estimate_data_store_size(\n",
    "    urls: Optional[List[str]] = None,\n",
    "    docs: Optional[List[discoveryengine.Document]] = None,\n",
    "    project_id: str = None,\n",
    "    location: str = None,\n",
    "    datastore_id: str = None,\n",
    ") -> None:\n",
    "    \"\"\"For Advanced Website Indexing data stores only.\"\"\"\n",
    "    if not urls:\n",
    "        if not docs:\n",
    "            docs = list_documents(project_id, location, datastore_id)\n",
    "        urls = list_indexed_urls(docs=docs)\n",
    "\n",
    "    # Filter to only include website urls.\n",
    "    urls = list(filter(lambda x: re.search(r\"https?://\", x), urls))\n",
    "\n",
    "    if not urls:\n",
    "        print(\n",
    "            \"No urls found. Make sure this data store is for websites with advanced indexing.\"\n",
    "        )\n",
    "        return\n",
    "\n",
    "    # For website indexing, each page is calculated as 500KB.\n",
    "    size = len(urls) * 500_000\n",
    "    print(f\"Estimated data store size: {humanize.naturalsize(size)}\")\n",
    "\n",
    "\n",
    "PENDING_MESSAGE = \"\"\"\n",
    "No docs found.\\n\\nIt\\'s likely one of the following issues: \\n  [1] Your data store is not finished indexing. \\n  [2] Your data store failed indexing. \\n  [3] Your data store is for website data without advanced indexing.\\n\\n\n",
    "If you just added your data store, it can take up to 4 hours before it will become available.\n",
    "\"\"\""
   ]
  },
  {
   "cell_type": "markdown",
   "id": "3ff431ad-4d29-4317-b1e7-2d7ce2d27be3",
   "metadata": {
    "tags": []
   },
   "source": [
    "# User Inputs\n",
    "Creating a new data store.\n",
    "1. Navigate to Vertex AI Search & Conversation console and click on CONTINUE AND ACTIVATE THE API button.\n",
    "Vertex AI Search and Conversation allows developers to quickly build new experiences such as custom search engines and conversational apps via out-of-the-box templates and APIs.\n",
    "2. In the Create App page, select Chat as an App type.\n",
    "\n",
    "3. For Company Name enter Cymbal. For Agent Name enter cymbalagent and click CONTINUE.\n",
    "\n",
    "4. In the Data Stores page, click + CREATE NEW DATA STORE.\n",
    "\n",
    "5. Select Cloud Storage, and enter the following Google Cloud Storage location cloud-samples-data/dialogflow-cx/arc-lifeblood to add the folder. Then select Unstructured documents under What kind of data are you importing? section and finally click CONTINUE.\n",
    "6. For Data store name, enter cymbaldatastore and click CREATE. This creates a Data store.\n",
    "\n",
    "7. Finally on the App's Data page, select cymbaldatastore and click on CREATE.\n",
    "8. Click on cymbaldatastore and note down the Data store ID.\n",
    "9. Alternatively, you can find the datastore_id by from Navigation Menu navigation-menu > Search & Conversation.\n",
    "\n",
    "10. For cymbalagent, click on View under Connected data stores.\n",
    "11. Finally, click on cymbaldatastore to view the Data store ID. Note down the Data store ID.\n",
    "\n",
    "Data store ID\n",
    "cymbalagent_1710444207891\n",
    "\n"
   ]
  },
  {
   "cell_type": "markdown",
   "id": "3b5b0793-2803-4619-8230-750b02c42e87",
   "metadata": {},
   "source": [
    "# Task 5. Check Data Store Index Status\n",
    "Let's use the list_documents method, to check if the data store has finished indexing.\n",
    "\n",
    "Back in the Jupyter notebook, run the following command in the next cell and replace the YOUR_DATA_STORE_ID with the Data store ID noted down in earlier task."
   ]
  },
  {
   "cell_type": "code",
   "execution_count": 7,
   "id": "1a82d3ba-704c-4292-9c1b-e14581996394",
   "metadata": {
    "tags": []
   },
   "outputs": [
    {
     "name": "stdout",
     "output_type": "stream",
     "text": [
      "qwiklabs-gcp-00-40732e0c8212\n"
     ]
    }
   ],
   "source": [
    "PROJECT = !gcloud config get-value project\n",
    "project_id  = PROJECT[0]\n",
    "print(project_id)\n",
    "location = \"global\"  # Options: \"global\", \"us\", \"eu\"\n",
    "datastore_id = \"cymbaldatastore_1710444109310\""
   ]
  },
  {
   "cell_type": "code",
   "execution_count": 8,
   "id": "88595bdc-864e-498d-88d3-25a1f781667a",
   "metadata": {
    "tags": []
   },
   "outputs": [
    {
     "name": "stdout",
     "output_type": "stream",
     "text": [
      "\n",
      "  Success! 🎉\n",
      "\n",
      "  Your indexing is complete.\n",
      "\n",
      "  Your index contains 79 documents.\n",
      "  \n"
     ]
    }
   ],
   "source": [
    "docs = list_documents(project_id, location, datastore_id)\n",
    "\n",
    "if len(docs) == 0:\n",
    "    print(PENDING_MESSAGE)\n",
    "else:\n",
    "    SUCCESS_MESSAGE = f\"\"\"\n",
    "  Success! 🎉\\n\n",
    "  Your indexing is complete.\\n\n",
    "  Your index contains {len(docs)} documents.\n",
    "  \"\"\"\n",
    "    print(SUCCESS_MESSAGE)"
   ]
  },
  {
   "cell_type": "code",
   "execution_count": 9,
   "id": "cbe1a8ad-369c-4a21-b72d-17cf65a1c444",
   "metadata": {
    "tags": []
   },
   "outputs": [
    {
     "data": {
      "text/plain": [
       "name: \"projects/798934074668/locations/global/collections/default_collection/dataStores/cymbaldatastore_1710444109310/branches/0/documents/01c3140622cfed9a86572e550ed049a0\"\n",
       "id: \"01c3140622cfed9a86572e550ed049a0\"\n",
       "schema_id: \"default_schema\"\n",
       "struct_data {\n",
       "}\n",
       "parent_document_id: \"01c3140622cfed9a86572e550ed049a0\"\n",
       "content {\n",
       "  mime_type: \"text/html\"\n",
       "  uri: \"gs://cloud-samples-data/dialogflow-cx/arc-lifeblood/testing.html\"\n",
       "}"
      ]
     },
     "execution_count": 9,
     "metadata": {},
     "output_type": "execute_result"
    }
   ],
   "source": [
    "docs = list_documents(project_id, location, datastore_id)\n",
    "docs[0]"
   ]
  },
  {
   "cell_type": "markdown",
   "id": "d2ba3f60-7068-4ffc-9cfb-c9bd42561bc1",
   "metadata": {},
   "source": [
    "# Task7. Search Data Store by Doc ID\n",
    "Let's search through all docs in a given Data Store and find a specific Doc ID.\n",
    "\n",
    "In the following command, replace the placeholder_document_id with the value of parent_document_id from the last output."
   ]
  },
  {
   "cell_type": "code",
   "execution_count": 11,
   "id": "492e5122-2624-4e9f-8f43-41b36b7ad339",
   "metadata": {
    "tags": []
   },
   "outputs": [
    {
     "name": "stdout",
     "output_type": "stream",
     "text": [
      "name: \"projects/798934074668/locations/global/collections/default_collection/dataStores/cymbaldatastore_1710444109310/branches/0/documents/01c3140622cfed9a86572e550ed049a0\"\n",
      "id: \"01c3140622cfed9a86572e550ed049a0\"\n",
      "schema_id: \"default_schema\"\n",
      "struct_data {\n",
      "}\n",
      "parent_document_id: \"01c3140622cfed9a86572e550ed049a0\"\n",
      "content {\n",
      "  mime_type: \"text/html\"\n",
      "  uri: \"gs://cloud-samples-data/dialogflow-cx/arc-lifeblood/testing.html\"\n",
      "}\n",
      "\n"
     ]
    }
   ],
   "source": [
    "document_id = \"01c3140622cfed9a86572e550ed049a0\"\n",
    "search_doc_id(document_id, docs=docs)"
   ]
  },
  {
   "cell_type": "markdown",
   "id": "e813cf5f-296f-4284-a774-d1c9a42ad620",
   "metadata": {},
   "source": [
    "# Task 8. List Indexed URLs\n",
    "Run the following code snippet in the next notebook cell, to retrieve a indexed URL."
   ]
  },
  {
   "cell_type": "code",
   "execution_count": 12,
   "id": "f4cfc14e-402a-4d66-aca7-bf2b158bee9e",
   "metadata": {
    "tags": []
   },
   "outputs": [
    {
     "data": {
      "text/plain": [
       "'gs://cloud-samples-data/dialogflow-cx/arc-lifeblood/testing.html'"
      ]
     },
     "execution_count": 12,
     "metadata": {},
     "output_type": "execute_result"
    }
   ],
   "source": [
    "urls = list_indexed_urls(docs=docs)\n",
    "urls[0]"
   ]
  },
  {
   "cell_type": "markdown",
   "id": "1ea65ff6-ea79-4e2b-9e7a-75f2b6df522f",
   "metadata": {
    "tags": []
   },
   "source": [
    "# Task 9. Search Indexed URLs\n",
    "Run the following code snippet in the next notebook cell, to search for a specific URL within a list of indexed URLs."
   ]
  },
  {
   "cell_type": "code",
   "execution_count": 14,
   "id": "15732c12-e0f8-44e9-86eb-073dbf9b187c",
   "metadata": {
    "tags": []
   },
   "outputs": [
    {
     "name": "stdout",
     "output_type": "stream",
     "text": [
      "gs://cloud-samples-data/dialogflow-cx/arc-lifeblood/testing.html\n",
      "gs://cloud-samples-data/dialogflow-cx/arc-lifeblood/strategy.html\n",
      "gs://cloud-samples-data/dialogflow-cx/arc-lifeblood/making-blood-components.html\n",
      "gs://cloud-samples-data/dialogflow-cx/arc-lifeblood/making-your-donation.html\n",
      "gs://cloud-samples-data/dialogflow-cx/arc-lifeblood/products.html\n",
      "gs://cloud-samples-data/dialogflow-cx/arc-lifeblood/high-ferritin.html\n",
      "gs://cloud-samples-data/dialogflow-cx/arc-lifeblood/forms.html\n",
      "gs://cloud-samples-data/dialogflow-cx/arc-lifeblood/blood-for-transfusion.html\n",
      "gs://cloud-samples-data/dialogflow-cx/arc-lifeblood/how-you-can-give-life.html\n",
      "gs://cloud-samples-data/dialogflow-cx/arc-lifeblood/transplantation-immunogenetics-services.html\n",
      "gs://cloud-samples-data/dialogflow-cx/arc-lifeblood/blood.html\n",
      "gs://cloud-samples-data/dialogflow-cx/arc-lifeblood/prepare-and-aftercare.html\n",
      "gs://cloud-samples-data/dialogflow-cx/arc-lifeblood/our-strategy.html\n",
      "gs://cloud-samples-data/dialogflow-cx/arc-lifeblood/our-history.html\n",
      "gs://cloud-samples-data/dialogflow-cx/arc-lifeblood/our-services.html\n",
      "gs://cloud-samples-data/dialogflow-cx/arc-lifeblood/about.html\n",
      "gs://cloud-samples-data/dialogflow-cx/arc-lifeblood/iron-deficiency.html\n",
      "gs://cloud-samples-data/dialogflow-cx/arc-lifeblood/iron-health.html\n",
      "gs://cloud-samples-data/dialogflow-cx/arc-lifeblood/donor-centre.html\n",
      "gs://cloud-samples-data/dialogflow-cx/arc-lifeblood/fainting.html\n",
      "gs://cloud-samples-data/dialogflow-cx/arc-lifeblood/reasons-for-a-transfusion.html\n",
      "gs://cloud-samples-data/dialogflow-cx/arc-lifeblood/sexual-activity.html\n",
      "gs://cloud-samples-data/dialogflow-cx/arc-lifeblood/learn-about-blood.html\n",
      "gs://cloud-samples-data/dialogflow-cx/arc-lifeblood/avoid-a-transfusion.html\n",
      "gs://cloud-samples-data/dialogflow-cx/arc-lifeblood/relax-when-giving-blood.html\n",
      "gs://cloud-samples-data/dialogflow-cx/arc-lifeblood/our-research.html\n",
      "gs://cloud-samples-data/dialogflow-cx/arc-lifeblood/milk-research.html\n",
      "gs://cloud-samples-data/dialogflow-cx/arc-lifeblood/donating-after-travelling.html\n",
      "gs://cloud-samples-data/dialogflow-cx/arc-lifeblood/trending-research.html\n",
      "gs://cloud-samples-data/dialogflow-cx/arc-lifeblood/become-a-milk-donor.html\n",
      "gs://cloud-samples-data/dialogflow-cx/arc-lifeblood/milk-donation-guide.html\n",
      "gs://cloud-samples-data/dialogflow-cx/arc-lifeblood/serum-eyedrops.html\n",
      "gs://cloud-samples-data/dialogflow-cx/arc-lifeblood/resources.html\n",
      "gs://cloud-samples-data/dialogflow-cx/arc-lifeblood/training.html\n",
      "gs://cloud-samples-data/dialogflow-cx/arc-lifeblood/resource-library.html\n",
      "gs://cloud-samples-data/dialogflow-cx/arc-lifeblood/blood-types.html\n",
      "gs://cloud-samples-data/dialogflow-cx/arc-lifeblood/milk.html\n",
      "gs://cloud-samples-data/dialogflow-cx/arc-lifeblood/matching-blood-groups.html\n",
      "gs://cloud-samples-data/dialogflow-cx/arc-lifeblood/parents.html\n",
      "gs://cloud-samples-data/dialogflow-cx/arc-lifeblood/blood-stem-cell.html\n",
      "gs://cloud-samples-data/dialogflow-cx/arc-lifeblood/anaemia.html\n",
      "gs://cloud-samples-data/dialogflow-cx/arc-lifeblood/information-for-suppliers.html\n",
      "gs://cloud-samples-data/dialogflow-cx/arc-lifeblood/news-and-stories.html\n",
      "gs://cloud-samples-data/dialogflow-cx/arc-lifeblood/COVID-19-vaccine.html\n",
      "gs://cloud-samples-data/dialogflow-cx/arc-lifeblood/faq.html\n",
      "gs://cloud-samples-data/dialogflow-cx/arc-lifeblood/who-we-are.html\n",
      "gs://cloud-samples-data/dialogflow-cx/arc-lifeblood/receiving-a-transfusion.html\n",
      "gs://cloud-samples-data/dialogflow-cx/arc-lifeblood/why-donate-blood.html\n",
      "gs://cloud-samples-data/dialogflow-cx/arc-lifeblood/donate-as-a-group.html\n",
      "gs://cloud-samples-data/dialogflow-cx/arc-lifeblood/what-happens-to-your-blood.html\n",
      "gs://cloud-samples-data/dialogflow-cx/arc-lifeblood/our-people.html\n",
      "gs://cloud-samples-data/dialogflow-cx/arc-lifeblood/organ-and-tissue.html\n",
      "gs://cloud-samples-data/dialogflow-cx/arc-lifeblood/inventory-management.html\n",
      "gs://cloud-samples-data/dialogflow-cx/arc-lifeblood/plasma.html\n",
      "gs://cloud-samples-data/dialogflow-cx/arc-lifeblood/featured-resources.html\n",
      "gs://cloud-samples-data/dialogflow-cx/arc-lifeblood/types-of-transfusions.html\n",
      "gs://cloud-samples-data/dialogflow-cx/arc-lifeblood/careers.html\n",
      "gs://cloud-samples-data/dialogflow-cx/arc-lifeblood/partner-with-us.html\n",
      "gs://cloud-samples-data/dialogflow-cx/arc-lifeblood/eligibility.html\n",
      "gs://cloud-samples-data/dialogflow-cx/arc-lifeblood/index.html\n",
      "gs://cloud-samples-data/dialogflow-cx/arc-lifeblood/red-cell-reference.html\n",
      "gs://cloud-samples-data/dialogflow-cx/arc-lifeblood/privacy.html\n",
      "gs://cloud-samples-data/dialogflow-cx/arc-lifeblood/know-the-risks.html\n",
      "gs://cloud-samples-data/dialogflow-cx/arc-lifeblood/global-search-footer.html\n",
      "gs://cloud-samples-data/dialogflow-cx/arc-lifeblood/program.html\n",
      "gs://cloud-samples-data/dialogflow-cx/arc-lifeblood/learn.html\n",
      "gs://cloud-samples-data/dialogflow-cx/arc-lifeblood/blood-testing-and-safety.html\n",
      "gs://cloud-samples-data/dialogflow-cx/arc-lifeblood/patients.html\n",
      "gs://cloud-samples-data/dialogflow-cx/arc-lifeblood/health-professionals.html\n",
      "gs://cloud-samples-data/dialogflow-cx/arc-lifeblood/disclaimer.html\n",
      "gs://cloud-samples-data/dialogflow-cx/arc-lifeblood/microbiome.html\n",
      "gs://cloud-samples-data/dialogflow-cx/arc-lifeblood/clinical-practice.html\n",
      "gs://cloud-samples-data/dialogflow-cx/arc-lifeblood/quiz.html\n",
      "gs://cloud-samples-data/dialogflow-cx/arc-lifeblood/safety.html\n",
      "gs://cloud-samples-data/dialogflow-cx/arc-lifeblood/coronavirus.html\n",
      "gs://cloud-samples-data/dialogflow-cx/arc-lifeblood/start-quiz.html\n",
      "gs://cloud-samples-data/dialogflow-cx/arc-lifeblood/meet-our-researchers.html\n",
      "gs://cloud-samples-data/dialogflow-cx/arc-lifeblood/contact.html\n",
      "gs://cloud-samples-data/dialogflow-cx/arc-lifeblood/platelets.html\n"
     ]
    }
   ],
   "source": [
    "search_url(urls, \"gs://cloud-samples-data/dialogflow-cx/arc-lifeblood\")"
   ]
  },
  {
   "cell_type": "code",
   "execution_count": 15,
   "id": "875072bf-14da-4e0c-8833-d332419ad74b",
   "metadata": {
    "tags": []
   },
   "outputs": [
    {
     "name": "stdout",
     "output_type": "stream",
     "text": [
      "gs://cloud-samples-data/dialogflow-cx/arc-lifeblood/testing.html\n",
      "gs://cloud-samples-data/dialogflow-cx/arc-lifeblood/strategy.html\n",
      "gs://cloud-samples-data/dialogflow-cx/arc-lifeblood/making-blood-components.html\n",
      "gs://cloud-samples-data/dialogflow-cx/arc-lifeblood/making-your-donation.html\n",
      "gs://cloud-samples-data/dialogflow-cx/arc-lifeblood/products.html\n",
      "gs://cloud-samples-data/dialogflow-cx/arc-lifeblood/high-ferritin.html\n",
      "gs://cloud-samples-data/dialogflow-cx/arc-lifeblood/forms.html\n",
      "gs://cloud-samples-data/dialogflow-cx/arc-lifeblood/blood-for-transfusion.html\n",
      "gs://cloud-samples-data/dialogflow-cx/arc-lifeblood/how-you-can-give-life.html\n",
      "gs://cloud-samples-data/dialogflow-cx/arc-lifeblood/transplantation-immunogenetics-services.html\n",
      "gs://cloud-samples-data/dialogflow-cx/arc-lifeblood/blood.html\n",
      "gs://cloud-samples-data/dialogflow-cx/arc-lifeblood/prepare-and-aftercare.html\n",
      "gs://cloud-samples-data/dialogflow-cx/arc-lifeblood/our-strategy.html\n",
      "gs://cloud-samples-data/dialogflow-cx/arc-lifeblood/our-history.html\n",
      "gs://cloud-samples-data/dialogflow-cx/arc-lifeblood/our-services.html\n",
      "gs://cloud-samples-data/dialogflow-cx/arc-lifeblood/about.html\n",
      "gs://cloud-samples-data/dialogflow-cx/arc-lifeblood/iron-deficiency.html\n",
      "gs://cloud-samples-data/dialogflow-cx/arc-lifeblood/iron-health.html\n",
      "gs://cloud-samples-data/dialogflow-cx/arc-lifeblood/donor-centre.html\n",
      "gs://cloud-samples-data/dialogflow-cx/arc-lifeblood/fainting.html\n",
      "gs://cloud-samples-data/dialogflow-cx/arc-lifeblood/reasons-for-a-transfusion.html\n",
      "gs://cloud-samples-data/dialogflow-cx/arc-lifeblood/sexual-activity.html\n",
      "gs://cloud-samples-data/dialogflow-cx/arc-lifeblood/learn-about-blood.html\n",
      "gs://cloud-samples-data/dialogflow-cx/arc-lifeblood/avoid-a-transfusion.html\n",
      "gs://cloud-samples-data/dialogflow-cx/arc-lifeblood/relax-when-giving-blood.html\n",
      "gs://cloud-samples-data/dialogflow-cx/arc-lifeblood/our-research.html\n",
      "gs://cloud-samples-data/dialogflow-cx/arc-lifeblood/milk-research.html\n",
      "gs://cloud-samples-data/dialogflow-cx/arc-lifeblood/donating-after-travelling.html\n",
      "gs://cloud-samples-data/dialogflow-cx/arc-lifeblood/trending-research.html\n",
      "gs://cloud-samples-data/dialogflow-cx/arc-lifeblood/become-a-milk-donor.html\n",
      "gs://cloud-samples-data/dialogflow-cx/arc-lifeblood/milk-donation-guide.html\n",
      "gs://cloud-samples-data/dialogflow-cx/arc-lifeblood/serum-eyedrops.html\n",
      "gs://cloud-samples-data/dialogflow-cx/arc-lifeblood/resources.html\n",
      "gs://cloud-samples-data/dialogflow-cx/arc-lifeblood/training.html\n",
      "gs://cloud-samples-data/dialogflow-cx/arc-lifeblood/resource-library.html\n",
      "gs://cloud-samples-data/dialogflow-cx/arc-lifeblood/blood-types.html\n",
      "gs://cloud-samples-data/dialogflow-cx/arc-lifeblood/milk.html\n",
      "gs://cloud-samples-data/dialogflow-cx/arc-lifeblood/matching-blood-groups.html\n",
      "gs://cloud-samples-data/dialogflow-cx/arc-lifeblood/parents.html\n",
      "gs://cloud-samples-data/dialogflow-cx/arc-lifeblood/blood-stem-cell.html\n",
      "gs://cloud-samples-data/dialogflow-cx/arc-lifeblood/anaemia.html\n",
      "gs://cloud-samples-data/dialogflow-cx/arc-lifeblood/information-for-suppliers.html\n",
      "gs://cloud-samples-data/dialogflow-cx/arc-lifeblood/news-and-stories.html\n",
      "gs://cloud-samples-data/dialogflow-cx/arc-lifeblood/COVID-19-vaccine.html\n",
      "gs://cloud-samples-data/dialogflow-cx/arc-lifeblood/faq.html\n",
      "gs://cloud-samples-data/dialogflow-cx/arc-lifeblood/who-we-are.html\n",
      "gs://cloud-samples-data/dialogflow-cx/arc-lifeblood/receiving-a-transfusion.html\n",
      "gs://cloud-samples-data/dialogflow-cx/arc-lifeblood/why-donate-blood.html\n",
      "gs://cloud-samples-data/dialogflow-cx/arc-lifeblood/donate-as-a-group.html\n",
      "gs://cloud-samples-data/dialogflow-cx/arc-lifeblood/what-happens-to-your-blood.html\n",
      "gs://cloud-samples-data/dialogflow-cx/arc-lifeblood/our-people.html\n",
      "gs://cloud-samples-data/dialogflow-cx/arc-lifeblood/organ-and-tissue.html\n",
      "gs://cloud-samples-data/dialogflow-cx/arc-lifeblood/inventory-management.html\n",
      "gs://cloud-samples-data/dialogflow-cx/arc-lifeblood/plasma.html\n",
      "gs://cloud-samples-data/dialogflow-cx/arc-lifeblood/featured-resources.html\n",
      "gs://cloud-samples-data/dialogflow-cx/arc-lifeblood/types-of-transfusions.html\n",
      "gs://cloud-samples-data/dialogflow-cx/arc-lifeblood/careers.html\n",
      "gs://cloud-samples-data/dialogflow-cx/arc-lifeblood/partner-with-us.html\n",
      "gs://cloud-samples-data/dialogflow-cx/arc-lifeblood/eligibility.html\n",
      "gs://cloud-samples-data/dialogflow-cx/arc-lifeblood/index.html\n",
      "gs://cloud-samples-data/dialogflow-cx/arc-lifeblood/red-cell-reference.html\n",
      "gs://cloud-samples-data/dialogflow-cx/arc-lifeblood/privacy.html\n",
      "gs://cloud-samples-data/dialogflow-cx/arc-lifeblood/know-the-risks.html\n",
      "gs://cloud-samples-data/dialogflow-cx/arc-lifeblood/global-search-footer.html\n",
      "gs://cloud-samples-data/dialogflow-cx/arc-lifeblood/program.html\n",
      "gs://cloud-samples-data/dialogflow-cx/arc-lifeblood/learn.html\n",
      "gs://cloud-samples-data/dialogflow-cx/arc-lifeblood/blood-testing-and-safety.html\n",
      "gs://cloud-samples-data/dialogflow-cx/arc-lifeblood/patients.html\n",
      "gs://cloud-samples-data/dialogflow-cx/arc-lifeblood/health-professionals.html\n",
      "gs://cloud-samples-data/dialogflow-cx/arc-lifeblood/disclaimer.html\n",
      "gs://cloud-samples-data/dialogflow-cx/arc-lifeblood/microbiome.html\n",
      "gs://cloud-samples-data/dialogflow-cx/arc-lifeblood/clinical-practice.html\n",
      "gs://cloud-samples-data/dialogflow-cx/arc-lifeblood/quiz.html\n",
      "gs://cloud-samples-data/dialogflow-cx/arc-lifeblood/safety.html\n",
      "gs://cloud-samples-data/dialogflow-cx/arc-lifeblood/coronavirus.html\n",
      "gs://cloud-samples-data/dialogflow-cx/arc-lifeblood/start-quiz.html\n",
      "gs://cloud-samples-data/dialogflow-cx/arc-lifeblood/meet-our-researchers.html\n",
      "gs://cloud-samples-data/dialogflow-cx/arc-lifeblood/contact.html\n",
      "gs://cloud-samples-data/dialogflow-cx/arc-lifeblood/platelets.html\n"
     ]
    }
   ],
   "source": [
    "search_url(urls, \"dialogflow-cx\")"
   ]
  },
  {
   "cell_type": "code",
   "execution_count": null,
   "id": "059c98a8-0579-47fb-895a-20da70386fbf",
   "metadata": {},
   "outputs": [],
   "source": []
  }
 ],
 "metadata": {
  "environment": {
   "kernel": "python3",
   "name": ".m118",
   "type": "gcloud",
   "uri": "us-docker.pkg.dev/deeplearning-platform-release/gcr.io/:m118"
  },
  "kernelspec": {
   "display_name": "Python 3 (ipykernel) (Local)",
   "language": "python",
   "name": "python3"
  },
  "language_info": {
   "codemirror_mode": {
    "name": "ipython",
    "version": 3
   },
   "file_extension": ".py",
   "mimetype": "text/x-python",
   "name": "python",
   "nbconvert_exporter": "python",
   "pygments_lexer": "ipython3",
   "version": "3.10.13"
  }
 },
 "nbformat": 4,
 "nbformat_minor": 5
}
