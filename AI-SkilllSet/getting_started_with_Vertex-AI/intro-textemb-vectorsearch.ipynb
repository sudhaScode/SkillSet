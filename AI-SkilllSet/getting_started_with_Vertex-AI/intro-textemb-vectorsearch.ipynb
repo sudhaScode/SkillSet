{
 "cells": [
  {
   "cell_type": "code",
   "execution_count": null,
   "metadata": {
    "id": "c3_K0GGSTrhd"
   },
   "outputs": [],
   "source": [
    "# Copyright 2023 Google LLC\n",
    "#\n",
    "# Licensed under the Apache License, Version 2.0 (the \"License\");\n",
    "# you may not use this file except in compliance with the License.\n",
    "# You may obtain a copy of the License at\n",
    "#\n",
    "#     https://www.apache.org/licenses/LICENSE-2.0\n",
    "#\n",
    "# Unless required by applicable law or agreed to in writing, software\n",
    "# distributed under the License is distributed on an \"AS IS\" BASIS,\n",
    "# WITHOUT WARRANTIES OR CONDITIONS OF ANY KIND, either express or implied.\n",
    "# See the License for the specific language governing permissions and\n",
    "# limitations under the License."
   ]
  },
  {
   "cell_type": "markdown",
   "metadata": {
    "id": "7VQkf8sFTeDo",
    "tags": []
   },
   "source": [
    "# Getting Started with Text Embeddings + Vertex AI Vector Search\n",
    "\n",
    "\n",
    "<table align=\"left\">\n",
    "  <td style=\"text-align: center\">\n",
    "    <a href=\"https://colab.research.google.com/github/GoogleCloudPlatform/generative-ai/blob/main/embeddings/intro-textemb-vectorsearch.ipynb\">\n",
    "      <img src=\"https://cloud.google.com/ml-engine/images/colab-logo-32px.png\" alt=\"Google Colaboratory logo\"><br> Run in Colab\n",
    "    </a>\n",
    "  </td>\n",
    "  <td style=\"text-align: center\">\n",
    "    <a href=\"https://github.com/GoogleCloudPlatform/generative-ai/blob/main/embeddings/intro-textemb-vectorsearch.ipynb\">\n",
    "      <img src=\"https://cloud.google.com/ml-engine/images/github-logo-32px.png\" alt=\"GitHub logo\"><br> View on GitHub\n",
    "    </a>\n",
    "  </td>\n",
    "  <td style=\"text-align: center\">\n",
    "    <a href=\"https://console.cloud.google.com/vertex-ai/workbench/deploy-notebook?download_url=https://raw.githubusercontent.com/GoogleCloudPlatform/generative-ai/main/embeddings/intro-textemb-vectorsearch.ipynb\">\n",
    "      <img src=\"https://lh3.googleusercontent.com/UiNooY4LUgW_oTvpsNhPpQzsstV5W8F7rYgxgGBD85cWJoLmrOzhVs_ksK_vgx40SHs7jCqkTkCk=e14-rj-sc0xffffff-h130-w32\" alt=\"Vertex AI logo\"><br> Open in Vertex AI Workbench\n",
    "    </a>\n",
    "  </td>\n",
    "</table>"
   ]
  },
  {
   "cell_type": "markdown",
   "metadata": {},
   "source": [
    "| | |\n",
    "|-|-|\n",
    "|Author(s) | [Smitha Venkat](https://github.com/smitha-google), [Kaz Sato](https://github.com/kazunori279)|"
   ]
  },
  {
   "cell_type": "markdown",
   "metadata": {},
   "source": [
    "## Introduction\n",
    "\n",
    "In this tutorial, you learn how to use Google Cloud AI tools to quickly bring the power of Large Language Models to enterprise systems.  \n",
    "\n",
    "This tutorial covers the following -\n",
    "\n",
    "*   What are embeddings - what business challenges do they help solve ?\n",
    "*   Understanding Text with Vertex AI Text Embeddings\n",
    "*   Find Embeddings fast with Vertex AI Vector Search\n",
    "*   Grounding LLM outputs with Vector Search\n",
    "\n",
    "This tutorial is based on [the blog post](https://cloud.google.com/blog/products/ai-machine-learning/how-to-use-grounding-for-your-llms-with-text-embeddings), combined with sample code.\n",
    "\n",
    "\n",
    "### Prerequisites\n",
    "\n",
    "This tutorial is designed for developers who has basic knowledge and experience with Python programming and machine learning.\n",
    "\n",
    "If you are not reading this tutorial in Qwiklab, then you need to have a Google Cloud project that is linked to a billing account to run this. Please go through [this document](https://cloud.google.com/vertex-ai/docs/start/cloud-environment) to create a project and setup a billing account for it.\n",
    "\n",
    "### Choose the runtime environment\n",
    "\n",
    "The notebook can be run on either Google Colab or [Vertex AI Workbench](https://cloud.google.com/vertex-ai-workbench).\n",
    "\n",
    "- To use Colab: Click [this link](https://colab.research.google.com/github/GoogleCloudPlatform/generative-ai/blob/main/embeddings/intro-textemb-vectorsearch.ipynb) to open the tutorial in Colab.\n",
    "\n",
    "- To use Workbench: If it is the first time to use Workbench in your Google Cloud project, open [the Workbench console](https://console.cloud.google.com/vertex-ai/workbench) and click ENABLE button to enable Notebooks API. Then click [this link](https://console.cloud.google.com/vertex-ai/workbench/deploy-notebook?download_url=https://raw.githubusercontent.com/GoogleCloudPlatform/generative-ai/main/embeddings/intro-textemb-vectorsearch.ipynb),  and select an existing notebook or create a new notebook.\n"
   ]
  },
  {
   "cell_type": "markdown",
   "metadata": {
    "id": "2pImjuenUIQz"
   },
   "source": [
    "### How much will this cost?\n",
    "\n",
    "In case you are using your own Cloud project, not a temporary project on Qwiklab, you need to spend roughly a few US dollars to finish this tutorial.\n",
    "\n",
    "The pricing of the Cloud services we will use in this tutorial are avilable in the following pages:\n",
    "\n",
    "- [Vertex AI Embeddings for Text](https://cloud.google.com/vertex-ai/pricing#generative_ai_models)\n",
    "- [Vertex AI Vector Search](https://cloud.google.com/vertex-ai/pricing#matchingengine)\n",
    "- [BigQuery](https://cloud.google.com/bigquery/pricing)\n",
    "- [Cloud Storage](https://cloud.google.com/storage/pricing)\n",
    "- [Vertex AI Workbench](https://cloud.google.com/vertex-ai/pricing#notebooks) if you use one\n",
    "\n",
    "You can use the [Pricing Calculator](https://cloud.google.com/products/calculator) to generate a cost estimate based on your projected usage. The following is an example of rough cost estimation with the calculator, assuming you will go through this tutorial a couple of time.\n",
    "\n",
    "<img src=\"https://storage.googleapis.com/github-repo/img/embeddings/vs-quickstart/pricing.png\" width=\"50%\"/>\n",
    "\n",
    "### **Warning: delete your objects after the tutorial**\n",
    "\n",
    "In case you are using your own Cloud project, please make sure to delete all the Indexes, Index Endpoints and Cloud Storage buckets (and the Workbench instance if you use one) after finishing this tutorial. Otherwise the remaining assets would incur unexpected costs.\n"
   ]
  },
  {
   "cell_type": "markdown",
   "metadata": {
    "id": "6Fu2OoUDTQ6w"
   },
   "source": [
    "# Bringing Gen AI and LLMs to production services\n",
    "\n",
    "Many people are now starting to think about how to bring Gen AI and LLMs to production services, and facing with several challenges.\n",
    "\n",
    "- \"How to integrate LLMs or AI chatbots with existing IT systems, databases and business data?\"\n",
    "- \"We have thousands of products. How can I let LLM memorize them all precisely?\"\n",
    "- \"How to handle the hallucination issues in AI chatbots to build a reliable service?\"\n",
    "\n",
    "Here is a quick solution: **grounding** with **embeddings** and **vector search**.\n",
    "\n",
    "What is grounding? What are embedding and vector search? In this tutorial, we will learn these crucial concepts to build reliable Gen AI services for enterprise use. But before we dive deeper, let's try the demo below."
   ]
  },
  {
   "cell_type": "markdown",
   "metadata": {
    "id": "ORqZYLgTm9pJ"
   },
   "source": [
    "![](https://storage.googleapis.com/gweb-cloudblog-publish/original_images/1._demo_animation.gif)\n",
    "\n",
    "**Exercise: Try the Stack Overflow semantic search demo:**\n",
    "\n",
    "This demo is available as a [public live demo](https://ai-demos.dev/). Select \"STACKOVERFLOW\" and enter any coding question as a query, so it runs a text search on **8 million** questions posted on [Stack Overflow](https://stackoverflow.com/). Try the text semantic search with some queries like 'How to shuffle rows in SQL?' or arbitrary programming questions.\n",
    "\n",
    "In this tutorial, we are going to see how to build a similar search experience - what is involved in building solutions like this using Vertex AI Embeddings API and Vector Search."
   ]
  },
  {
   "cell_type": "markdown",
   "metadata": {
    "id": "H1MAIOkCw35V"
   },
   "source": [
    "# What is Embeddings?\n",
    "\n",
    "With the rise of LLMs, why is it becoming important for IT engineers and ITDMs to understand how they work?\n",
    "\n",
    "In traditional IT systems, most data is organized as structured or tabular data, using simple keywords, labels, and categories in databases and search engines.\n",
    "\n",
    "![](https://storage.googleapis.com/github-repo/img/embeddings/textemb-vs-notebook/1.png)\n",
    "\n",
    "In contrast, AI-powered services arrange data into a simple data structure known as \"embeddings.\"\n",
    "\n",
    "![](https://storage.googleapis.com/github-repo/img/embeddings/textemb-vs-notebook/2.png)"
   ]
  },
  {
   "cell_type": "markdown",
   "metadata": {
    "id": "hJqjBmQsxz2Z"
   },
   "source": [
    "Once trained with specific content like text, images, or any content, AI creates a space called \"embedding space\", which is essentially a map of the content's meaning.\n",
    "\n",
    "![](https://storage.googleapis.com/github-repo/img/embeddings/textemb-vs-notebook/3.png)\n",
    "\n",
    "AI can identify the location of each content on the map, that's what embedding is.\n",
    "\n",
    "![](https://storage.googleapis.com/github-repo/img/embeddings/textemb-vs-notebook/4.png)\n",
    "\n",
    "Let's take an example where a text discusses movies, music, and actors, with a distribution of 10%, 2%, and 30%, respectively. In this case, the AI can create an embedding with three values: 0.1, 0.02, and 0.3, in 3 dimensional space.\n",
    "\n",
    "![](https://storage.googleapis.com/github-repo/img/embeddings/textemb-vs-notebook/5.png)\n",
    "\n",
    "AI can put content with similar meanings closely together in the space."
   ]
  },
  {
   "cell_type": "markdown",
   "metadata": {
    "id": "A5z7vyTyzk_4"
   },
   "source": [
    "This is how Google organizes data across various services like Google Search, YouTube, Play, and many others, to provide search results and recommendations with relevant content.\n",
    "\n",
    "Embeddings can also be used to represent different types of things in businesses, such as products, users, user activities, conversations, music & videos, signals from IoT sensors, and so on."
   ]
  },
  {
   "cell_type": "markdown",
   "metadata": {
    "id": "tpKVmyEe0ab9"
   },
   "source": [
    "AI and Embeddings are now playing a crucial role in creating a new way of human-computer interaction.\n",
    "\n",
    "![](https://storage.googleapis.com/github-repo/img/embeddings/textemb-vs-notebook/6.png)\n",
    "\n",
    "AI organizes data into embeddings, which represent what the user is looking for, the meaning of contents, or many other things you have in your business. This creates a new level of user experience that is becoming the new standard.\n",
    "\n",
    "To learn more about embeddings, [Foundational courses: Embeddings on Google Machine Learning Crush Course](https://developers.google.com/machine-learning/crash-course/embeddings/video-lecture) and [Meet AI’s multitool: Vector embeddings by Dale Markowitz](https://cloud.google.com/blog/topics/developers-practitioners/meet-ais-multitool-vector-embeddings) are great materials.\n",
    "\n"
   ]
  },
  {
   "cell_type": "markdown",
   "metadata": {
    "id": "ovQpiL2GUEXa"
   },
   "source": [
    "# Vertex AI Embeddings for Text\n",
    "\n",
    "With the [Vertex AI Embeddings for Text](https://cloud.google.com/vertex-ai/docs/generative-ai/embeddings/get-text-embeddings), you can easily create a text embedding with LLM. The product is also available on [Vertex AI Model Garden](https://cloud.google.com/model-garden)\n",
    "\n",
    "![](https://storage.googleapis.com/github-repo/img/embeddings/textemb-vs-notebook/7.png)\n",
    "\n",
    "This API is designed to extract embeddings from texts. It can take text input up to 3,072 input tokens, and outputs 768 dimensional text embeddings."
   ]
  },
  {
   "cell_type": "markdown",
   "metadata": {
    "id": "nwJHDPG7lU52"
   },
   "source": [
    "## LLM text embedding business use cases\n",
    "\n",
    "With the embedding API, you can apply the innovation of embeddings, combined with the LLM capability, to various text processing tasks, such as:\n",
    "\n",
    "**LLM-enabled Semantic Search**: text embeddings can be used to represent both the meaning and intent of a user's query and documents in the embedding space. Documents that have similar meaning to the user's query intent will be found fast with vector search technology. The model is capable of generating text embeddings that capture the subtle nuances of each sentence and paragraphs in the document.\n",
    "\n",
    "**LLM-enabled Text Classification**: LLM text embeddings can be used for text classification with a deep understanding of different contexts without any training or fine-tuning (so-called zero-shot learning). This wasn't possible with the past language models without task-specific training.\n",
    "\n",
    "**LLM-enabled Recommendation**: The text embedding can be used for recommendation systems as a strong feature for training recommendation models such as Two-Tower model. The model learns the relationship between the query and candidate embeddings, resulting in next-gen user experience with semantic product recommendation.\n",
    "\n",
    "LLM-enabled Clustering, Anomaly Detection, Sentiment Analysis, and more, can be also handled with the LLM-level deep semantics understanding.\n",
    "\n",
    "\n"
   ]
  },
  {
   "cell_type": "markdown",
   "metadata": {
    "id": "ga5A7koYlvlZ"
   },
   "source": [
    "## Sorting 8 million texts at \"librarian-level\" precision\n",
    "\n",
    "Vertex AI Embeddings for Text has an embedding space with 768 dimensions. As explained earlier, the space represents a huge map of a wide variety of texts in the world, organized by their meanings. With each input text, the model can find a location (embedding) in the map.\n",
    "\n",
    "By visualizing the embedding space, you can actually observe how the model sorts the texts at the \"librarian-level\" precision.\n",
    "\n",
    "**Exercise: Try the Nomic AI Atlas**\n",
    "\n",
    "[Nomic AI](http://nomic.ai/) provides a platform called Atlas for storing, visualizing and interacting with embedding spaces with high scalability and in a smooth UI, and they worked with Google for visualizing the embedding space of the 8 million Stack Overflow questions. You can try exploring around the space, zooming in and out to each data point on your browser on this page, courtesy of Nomic AI.\n",
    "\n",
    "The embedding space represents a huge map of texts, organized by their meanings\n",
    "With each input text, the model can find a location (embedding) in the map\n",
    "Like a librarian reading through millions of texts, sorting them with millions of nano-categories\n",
    "\n",
    "Try exploring it [here](https://atlas.nomic.ai/map/edaff028-12b5-42a0-8e8b-6430c9b8222b/bcb42818-3581-4fb5-ac30-9883d01f98ec). Zoom into a few categories, point each dots, and see how the LLM is sorting similar questions close together in the space.\n",
    "\n",
    "![](https://storage.googleapis.com/gweb-cloudblog-publish/images/4._Nomic_AI_Atlas.max-2200x2200.png)\n",
    "\n",
    "### The librarian-level semantic understanding\n",
    "\n",
    "Here are the examples of the librarian-level semantic understanding by Embeddings API with Stack Overflow questions.\n",
    "\n",
    "![](https://storage.googleapis.com/gweb-cloudblog-publish/images/5._semantic_understanding.max-2200x2200.png)\n",
    "\n",
    "For example, the model thinks the question “Does moving the request line to a header frame require an app change?” is similar to the question “Does an application developed on HTTP1x require modifications to run on HTTP2?”. That is because The model knows both questions talk about what's the change required to support the HTTP2 header frame.\n",
    "\n",
    "Note that this demo didn't require any training or fine-tuning with computer programming specific datasets. This is the innovative part of the zero-shot learning capability of the LLM. It can be applied to a wide variety of industries, including finance, healthcare, retail, manufacturing, construction, media, and more, for deep semantic search on the industry-focused business documents without spending time and cost for collecting industry specific datasets and training models."
   ]
  },
  {
   "cell_type": "markdown",
   "metadata": {
    "id": "-iOWOKnIvYxf"
   },
   "source": [
    "# Text Embeddings in Action\n",
    "\n",
    "Lets try using Text Embeddings in action with actual sample code."
   ]
  },
  {
   "cell_type": "markdown",
   "metadata": {
    "id": "AtXnXhF8U-8R"
   },
   "source": [
    "## Setup\n",
    "\n",
    "Before get started with the Vertex AI services, we need to setup the following.\n",
    "\n",
    "* Install Python SDK\n",
    "* Environment variables\n",
    "* Authentication (Colab only)\n",
    "* Enable APIs\n",
    "* Set IAM permissions"
   ]
  },
  {
   "cell_type": "markdown",
   "metadata": {
    "id": "UjnvWl6FLUlF"
   },
   "source": [
    "### Install Python SDK\n",
    "\n",
    "Vertex AI, Cloud Storage and BigQuery APIs can be accessed with multiple ways including REST API and Python SDK. In this tutorial we will use the SDK."
   ]
  },
  {
   "cell_type": "code",
   "execution_count": 1,
   "metadata": {
    "id": "FZgLGALt_al7",
    "tags": []
   },
   "outputs": [
    {
     "name": "stdout",
     "output_type": "stream",
     "text": [
      "Requirement already satisfied: google-cloud-aiplatform in /opt/conda/lib/python3.10/site-packages (1.43.0)\n",
      "Requirement already satisfied: google-cloud-storage in /opt/conda/lib/python3.10/site-packages (2.14.0)\n",
      "Collecting google-cloud-storage\n",
      "  Downloading google_cloud_storage-2.15.0-py2.py3-none-any.whl.metadata (6.1 kB)\n",
      "Requirement already satisfied: google-cloud-bigquery[pandas] in /opt/conda/lib/python3.10/site-packages (3.18.0)\n",
      "Collecting google-cloud-bigquery[pandas]\n",
      "  Downloading google_cloud_bigquery-3.19.0-py2.py3-none-any.whl.metadata (8.9 kB)\n",
      "Requirement already satisfied: google-api-core!=2.0.*,!=2.1.*,!=2.2.*,!=2.3.*,!=2.4.*,!=2.5.*,!=2.6.*,!=2.7.*,<3.0.0dev,>=1.34.1 in /opt/conda/lib/python3.10/site-packages (from google-api-core[grpc]!=2.0.*,!=2.1.*,!=2.2.*,!=2.3.*,!=2.4.*,!=2.5.*,!=2.6.*,!=2.7.*,<3.0.0dev,>=1.34.1->google-cloud-aiplatform) (1.34.1)\n",
      "Requirement already satisfied: google-auth<3.0.0dev,>=2.14.1 in /opt/conda/lib/python3.10/site-packages (from google-cloud-aiplatform) (2.28.1)\n",
      "Requirement already satisfied: proto-plus<2.0.0dev,>=1.22.0 in /opt/conda/lib/python3.10/site-packages (from google-cloud-aiplatform) (1.23.0)\n",
      "Requirement already satisfied: protobuf!=3.20.0,!=3.20.1,!=4.21.0,!=4.21.1,!=4.21.2,!=4.21.3,!=4.21.4,!=4.21.5,<5.0.0dev,>=3.19.5 in /opt/conda/lib/python3.10/site-packages (from google-cloud-aiplatform) (3.20.3)\n",
      "Requirement already satisfied: packaging>=14.3 in /opt/conda/lib/python3.10/site-packages (from google-cloud-aiplatform) (23.2)\n",
      "Requirement already satisfied: google-cloud-resource-manager<3.0.0dev,>=1.3.3 in /opt/conda/lib/python3.10/site-packages (from google-cloud-aiplatform) (1.12.3)\n",
      "Requirement already satisfied: shapely<3.0.0dev in /opt/conda/lib/python3.10/site-packages (from google-cloud-aiplatform) (2.0.3)\n",
      "Collecting google-api-core!=2.0.*,!=2.1.*,!=2.2.*,!=2.3.*,!=2.4.*,!=2.5.*,!=2.6.*,!=2.7.*,<3.0.0dev,>=1.34.1 (from google-api-core[grpc]!=2.0.*,!=2.1.*,!=2.2.*,!=2.3.*,!=2.4.*,!=2.5.*,!=2.6.*,!=2.7.*,<3.0.0dev,>=1.34.1->google-cloud-aiplatform)\n",
      "  Downloading google_api_core-2.17.1-py3-none-any.whl.metadata (2.7 kB)\n",
      "Requirement already satisfied: google-cloud-core<3.0dev,>=2.3.0 in /opt/conda/lib/python3.10/site-packages (from google-cloud-storage) (2.4.1)\n",
      "Requirement already satisfied: google-resumable-media>=2.6.0 in /opt/conda/lib/python3.10/site-packages (from google-cloud-storage) (2.7.0)\n",
      "Requirement already satisfied: requests<3.0.0dev,>=2.18.0 in /opt/conda/lib/python3.10/site-packages (from google-cloud-storage) (2.31.0)\n",
      "Requirement already satisfied: google-crc32c<2.0dev,>=1.0 in /opt/conda/lib/python3.10/site-packages (from google-cloud-storage) (1.5.0)\n",
      "Requirement already satisfied: python-dateutil<3.0dev,>=2.7.2 in /opt/conda/lib/python3.10/site-packages (from google-cloud-bigquery[pandas]) (2.9.0)\n",
      "Requirement already satisfied: pandas>=1.1.0 in /opt/conda/lib/python3.10/site-packages (from google-cloud-bigquery[pandas]) (2.2.1)\n",
      "Requirement already satisfied: pyarrow>=3.0.0 in /opt/conda/lib/python3.10/site-packages (from google-cloud-bigquery[pandas]) (15.0.0)\n",
      "Requirement already satisfied: db-dtypes<2.0.0dev,>=0.3.0 in /opt/conda/lib/python3.10/site-packages (from google-cloud-bigquery[pandas]) (1.2.0)\n",
      "Requirement already satisfied: numpy>=1.16.6 in /opt/conda/lib/python3.10/site-packages (from db-dtypes<2.0.0dev,>=0.3.0->google-cloud-bigquery[pandas]) (1.25.2)\n",
      "Requirement already satisfied: googleapis-common-protos<2.0.dev0,>=1.56.2 in /opt/conda/lib/python3.10/site-packages (from google-api-core!=2.0.*,!=2.1.*,!=2.2.*,!=2.3.*,!=2.4.*,!=2.5.*,!=2.6.*,!=2.7.*,<3.0.0dev,>=1.34.1->google-api-core[grpc]!=2.0.*,!=2.1.*,!=2.2.*,!=2.3.*,!=2.4.*,!=2.5.*,!=2.6.*,!=2.7.*,<3.0.0dev,>=1.34.1->google-cloud-aiplatform) (1.62.0)\n",
      "Requirement already satisfied: grpcio<2.0dev,>=1.33.2 in /opt/conda/lib/python3.10/site-packages (from google-api-core[grpc]!=2.0.*,!=2.1.*,!=2.2.*,!=2.3.*,!=2.4.*,!=2.5.*,!=2.6.*,!=2.7.*,<3.0.0dev,>=1.34.1->google-cloud-aiplatform) (1.62.0)\n",
      "Requirement already satisfied: grpcio-status<2.0.dev0,>=1.33.2 in /opt/conda/lib/python3.10/site-packages (from google-api-core[grpc]!=2.0.*,!=2.1.*,!=2.2.*,!=2.3.*,!=2.4.*,!=2.5.*,!=2.6.*,!=2.7.*,<3.0.0dev,>=1.34.1->google-cloud-aiplatform) (1.48.2)\n",
      "Requirement already satisfied: cachetools<6.0,>=2.0.0 in /opt/conda/lib/python3.10/site-packages (from google-auth<3.0.0dev,>=2.14.1->google-cloud-aiplatform) (5.3.3)\n",
      "Requirement already satisfied: pyasn1-modules>=0.2.1 in /opt/conda/lib/python3.10/site-packages (from google-auth<3.0.0dev,>=2.14.1->google-cloud-aiplatform) (0.3.0)\n",
      "Requirement already satisfied: rsa<5,>=3.1.4 in /opt/conda/lib/python3.10/site-packages (from google-auth<3.0.0dev,>=2.14.1->google-cloud-aiplatform) (4.9)\n",
      "Requirement already satisfied: grpc-google-iam-v1<1.0.0dev,>=0.12.4 in /opt/conda/lib/python3.10/site-packages (from google-cloud-resource-manager<3.0.0dev,>=1.3.3->google-cloud-aiplatform) (0.13.0)\n",
      "Requirement already satisfied: pytz>=2020.1 in /opt/conda/lib/python3.10/site-packages (from pandas>=1.1.0->google-cloud-bigquery[pandas]) (2024.1)\n",
      "Requirement already satisfied: tzdata>=2022.7 in /opt/conda/lib/python3.10/site-packages (from pandas>=1.1.0->google-cloud-bigquery[pandas]) (2024.1)\n",
      "Requirement already satisfied: six>=1.5 in /opt/conda/lib/python3.10/site-packages (from python-dateutil<3.0dev,>=2.7.2->google-cloud-bigquery[pandas]) (1.16.0)\n",
      "Requirement already satisfied: charset-normalizer<4,>=2 in /opt/conda/lib/python3.10/site-packages (from requests<3.0.0dev,>=2.18.0->google-cloud-storage) (3.3.2)\n",
      "Requirement already satisfied: idna<4,>=2.5 in /opt/conda/lib/python3.10/site-packages (from requests<3.0.0dev,>=2.18.0->google-cloud-storage) (3.6)\n",
      "Requirement already satisfied: urllib3<3,>=1.21.1 in /opt/conda/lib/python3.10/site-packages (from requests<3.0.0dev,>=2.18.0->google-cloud-storage) (1.26.18)\n",
      "Requirement already satisfied: certifi>=2017.4.17 in /opt/conda/lib/python3.10/site-packages (from requests<3.0.0dev,>=2.18.0->google-cloud-storage) (2024.2.2)\n",
      "Requirement already satisfied: pyasn1<0.6.0,>=0.4.6 in /opt/conda/lib/python3.10/site-packages (from pyasn1-modules>=0.2.1->google-auth<3.0.0dev,>=2.14.1->google-cloud-aiplatform) (0.5.1)\n",
      "Downloading google_cloud_storage-2.15.0-py2.py3-none-any.whl (123 kB)\n",
      "\u001b[2K   \u001b[90m━━━━━━━━━━━━━━━━━━━━━━━━━━━━━━━━━━━━━━━━\u001b[0m \u001b[32m123.5/123.5 kB\u001b[0m \u001b[31m1.6 MB/s\u001b[0m eta \u001b[36m0:00:00\u001b[0m00:01\u001b[0m0:01\u001b[0m\n",
      "\u001b[?25hDownloading google_api_core-2.17.1-py3-none-any.whl (137 kB)\n",
      "\u001b[2K   \u001b[90m━━━━━━━━━━━━━━━━━━━━━━━━━━━━━━━━━━━━━━━━\u001b[0m \u001b[32m137.0/137.0 kB\u001b[0m \u001b[31m7.7 MB/s\u001b[0m eta \u001b[36m0:00:00\u001b[0m\n",
      "\u001b[?25hDownloading google_cloud_bigquery-3.19.0-py2.py3-none-any.whl (232 kB)\n",
      "\u001b[2K   \u001b[90m━━━━━━━━━━━━━━━━━━━━━━━━━━━━━━━━━━━━━━━━\u001b[0m \u001b[32m232.6/232.6 kB\u001b[0m \u001b[31m13.7 MB/s\u001b[0m eta \u001b[36m0:00:00\u001b[0m\n",
      "\u001b[?25hInstalling collected packages: google-api-core, google-cloud-storage, google-cloud-bigquery\n",
      "\u001b[31mERROR: pip's dependency resolver does not currently take into account all the packages that are installed. This behaviour is the source of the following dependency conflicts.\n",
      "google-api-python-client 1.8.0 requires google-api-core<2dev,>=1.13.0, but you have google-api-core 2.17.1 which is incompatible.\u001b[0m\u001b[31m\n",
      "\u001b[0mSuccessfully installed google-api-core-2.17.1 google-cloud-bigquery-3.19.0 google-cloud-storage-2.15.0\n"
     ]
    }
   ],
   "source": [
    "!pip install --upgrade --user google-cloud-aiplatform google-cloud-storage 'google-cloud-bigquery[pandas]'"
   ]
  },
  {
   "cell_type": "markdown",
   "metadata": {
    "id": "R5Xep4W9lq-Z"
   },
   "source": [
    "### Restart current runtime\n",
    "\n",
    "To use the newly installed packages in this Jupyter runtime, you must restart the runtime. You can do this by running the cell below, which will restart the current kernel."
   ]
  },
  {
   "cell_type": "code",
   "execution_count": 2,
   "metadata": {
    "colab": {
     "base_uri": "https://localhost:8080/"
    },
    "id": "XRvKdaPDTznN",
    "outputId": "154a71b5-f302-4f53-ed2f-b3e5fef9195b",
    "tags": []
   },
   "outputs": [
    {
     "data": {
      "text/plain": [
       "{'status': 'ok', 'restart': True}"
      ]
     },
     "execution_count": 2,
     "metadata": {},
     "output_type": "execute_result"
    }
   ],
   "source": [
    "# Restart kernel after installs so that your environment can access the new packages\n",
    "import IPython\n",
    "import time\n",
    "\n",
    "app = IPython.Application.instance()\n",
    "app.kernel.do_shutdown(True)"
   ]
  },
  {
   "cell_type": "markdown",
   "metadata": {
    "id": "SbmM4z7FOBpM"
   },
   "source": [
    "<div class=\"alert alert-block alert-warning\">\n",
    "<b>⚠️ The kernel is going to restart. Please wait until it is finished before continuing to the next step. ⚠️</b>\n",
    "</div>\n",
    "\n"
   ]
  },
  {
   "cell_type": "markdown",
   "metadata": {
    "id": "nCoTvkOJoh76"
   },
   "source": [
    "### Environment variables\n",
    "\n",
    "Sets environment variables. If asked, please replace the following `[your-project-id]` with your project ID and run it."
   ]
  },
  {
   "cell_type": "code",
   "execution_count": 2,
   "metadata": {
    "tags": []
   },
   "outputs": [
    {
     "name": "stdout",
     "output_type": "stream",
     "text": [
      "qwiklabs-gcp-00-6650392fde9c\n"
     ]
    }
   ],
   "source": [
    "# get project ID\n",
    "PROJECT_ID = ! gcloud config get project\n",
    "PROJECT_ID = PROJECT_ID[0]\n",
    "print(PROJECT_ID)"
   ]
  },
  {
   "cell_type": "code",
   "execution_count": 3,
   "metadata": {
    "id": "fkmvFRrj3nQI",
    "tags": []
   },
   "outputs": [],
   "source": [
    "\n",
    "LOCATION = \"us-central1\"\n",
    "if PROJECT_ID == \"(unset)\":\n",
    "    print(f\"Please set the project ID manually below\")"
   ]
  },
  {
   "cell_type": "code",
   "execution_count": 4,
   "metadata": {
    "id": "69XJ95rNoYG9",
    "tags": []
   },
   "outputs": [],
   "source": [
    "# define project information\n",
    "if PROJECT_ID == \"(unset)\":\n",
    "    PROJECT_ID = \"[your-project-id]\"  # @param {type:\"string\"}\n",
    "\n",
    "# generate an unique id for this session\n",
    "from datetime import datetime\n",
    "\n",
    "UID = datetime.now().strftime(\"%m%d%H%M\")"
   ]
  },
  {
   "cell_type": "markdown",
   "metadata": {
    "id": "ph7mDSMRVTIZ"
   },
   "source": [
    "### Authentication (Colab only)\n",
    "\n",
    "If you are running this notebook on Colab, you will need to run the following cell authentication. This step is not required if you are using Vertex AI Workbench as it is pre-authenticated."
   ]
  },
  {
   "cell_type": "code",
   "execution_count": 5,
   "metadata": {
    "id": "5jQkFtlimNXR",
    "tags": []
   },
   "outputs": [],
   "source": [
    "import sys\n",
    "\n",
    "# if it's Colab runtime, authenticate the user with Google Cloud\n",
    "if \"google.colab\" in sys.modules:\n",
    "    from google.colab import auth\n",
    "\n",
    "    auth.authenticate_user()"
   ]
  },
  {
   "cell_type": "markdown",
   "metadata": {
    "id": "jUPbl4IFLmC2"
   },
   "source": [
    "### Enable APIs\n",
    "\n",
    "Run the following to enable APIs for Compute Engine, Vertex AI, Cloud Storage and BigQuery with this Google Cloud project."
   ]
  },
  {
   "cell_type": "code",
   "execution_count": 6,
   "metadata": {
    "id": "qGf0qMMQNond",
    "tags": []
   },
   "outputs": [
    {
     "name": "stdout",
     "output_type": "stream",
     "text": [
      "Operation \"operations/acat.p2-1085156338995-c4d044e9-ae0c-42c9-aab9-287f5835795a\" finished successfully.\n"
     ]
    }
   ],
   "source": [
    "! gcloud services enable compute.googleapis.com aiplatform.googleapis.com storage.googleapis.com bigquery.googleapis.com --project {PROJECT_ID}"
   ]
  },
  {
   "cell_type": "markdown",
   "metadata": {
    "id": "8cF8rkN3Lnhq"
   },
   "source": [
    "### Set IAM permissions\n",
    "\n",
    "Also, we need to add access permissions to the default service account for using those services.\n",
    "\n",
    "- Go to [the IAM page](https://console.cloud.google.com/iam-admin/) in the Console\n",
    "- Look for the principal for default compute service account. It should look like: `<project-number>-compute@developer.gserviceaccount.com`\n",
    "- Click the edit button at right and click `ADD ANOTHER ROLE` to add `Vertex AI User`, `BigQuery User` and `Storage Admin` to the account.\n",
    "\n",
    "This will look like this:\n",
    "\n",
    "![](https://storage.googleapis.com/github-repo/img/embeddings/vs-quickstart/iam-setting.png)"
   ]
  },
  {
   "cell_type": "markdown",
   "metadata": {
    "id": "mahCxLXHMIls"
   },
   "source": [
    "## Getting Started with Vertex AI Embeddings for Text\n",
    "\n",
    "Now it's ready to get started with embeddings!"
   ]
  },
  {
   "cell_type": "markdown",
   "metadata": {
    "id": "rq07_-o0VoZD"
   },
   "source": [
    "### Data Preparation\n",
    "\n",
    "We will be using [the Stack Overflow public dataset](https://console.cloud.google.com/marketplace/product/stack-exchange/stack-overflow) hosted on BigQuery table `bigquery-public-data.stackoverflow.posts_questions`. This is a very big dataset with 23 million rows that doesn't fit into the memory. We are going to limit it to 1000 rows for this tutorial."
   ]
  },
  {
   "cell_type": "code",
   "execution_count": 7,
   "metadata": {
    "id": "snrzPsEQDH4S",
    "tags": []
   },
   "outputs": [
    {
     "data": {
      "text/html": [
       "<div>\n",
       "<style scoped>\n",
       "    .dataframe tbody tr th:only-of-type {\n",
       "        vertical-align: middle;\n",
       "    }\n",
       "\n",
       "    .dataframe tbody tr th {\n",
       "        vertical-align: top;\n",
       "    }\n",
       "\n",
       "    .dataframe thead th {\n",
       "        text-align: right;\n",
       "    }\n",
       "</style>\n",
       "<table border=\"1\" class=\"dataframe\">\n",
       "  <thead>\n",
       "    <tr style=\"text-align: right;\">\n",
       "      <th></th>\n",
       "      <th>id</th>\n",
       "      <th>title</th>\n",
       "    </tr>\n",
       "  </thead>\n",
       "  <tbody>\n",
       "    <tr>\n",
       "      <th>0</th>\n",
       "      <td>73250763</td>\n",
       "      <td>Error CS0246: The type or namespace name 'Stre...</td>\n",
       "    </tr>\n",
       "    <tr>\n",
       "      <th>1</th>\n",
       "      <td>73206525</td>\n",
       "      <td>Keycloak 19.0 behind nginx (https) admin conso...</td>\n",
       "    </tr>\n",
       "    <tr>\n",
       "      <th>2</th>\n",
       "      <td>73475664</td>\n",
       "      <td>Citing Institutional Author or Organization in...</td>\n",
       "    </tr>\n",
       "    <tr>\n",
       "      <th>3</th>\n",
       "      <td>73399777</td>\n",
       "      <td>Azure build failing due to Method not found: '...</td>\n",
       "    </tr>\n",
       "    <tr>\n",
       "      <th>4</th>\n",
       "      <td>73426773</td>\n",
       "      <td>UnboundLocalError: local variable 'raw_labels'...</td>\n",
       "    </tr>\n",
       "  </tbody>\n",
       "</table>\n",
       "</div>"
      ],
      "text/plain": [
       "         id                                              title\n",
       "0  73250763  Error CS0246: The type or namespace name 'Stre...\n",
       "1  73206525  Keycloak 19.0 behind nginx (https) admin conso...\n",
       "2  73475664  Citing Institutional Author or Organization in...\n",
       "3  73399777  Azure build failing due to Method not found: '...\n",
       "4  73426773  UnboundLocalError: local variable 'raw_labels'..."
      ]
     },
     "execution_count": 7,
     "metadata": {},
     "output_type": "execute_result"
    }
   ],
   "source": [
    "# load the BQ Table into a Pandas Dataframe\n",
    "import pandas as pd\n",
    "from google.cloud import bigquery\n",
    "\n",
    "QUESTIONS_SIZE = 1000\n",
    "\n",
    "bq_client = bigquery.Client(project=PROJECT_ID)\n",
    "QUERY_TEMPLATE = \"\"\"\n",
    "        SELECT distinct q.id, q.title\n",
    "        FROM (SELECT * FROM `bigquery-public-data.stackoverflow.posts_questions`\n",
    "        where Score > 0 ORDER BY View_Count desc) AS q\n",
    "        LIMIT {limit} ;\n",
    "        \"\"\"\n",
    "query = QUERY_TEMPLATE.format(limit=QUESTIONS_SIZE)\n",
    "query_job = bq_client.query(query)\n",
    "rows = query_job.result()\n",
    "df = rows.to_dataframe()\n",
    "\n",
    "# examine the data\n",
    "df.head()"
   ]
  },
  {
   "cell_type": "markdown",
   "metadata": {
    "id": "j6022U1FWzpb"
   },
   "source": [
    "### Call the API to generate embeddings\n",
    "\n",
    "With the Stack Overflow dataset, we will use the `title` column (the question title) and generate embedding for it with Embeddings for Text API. The API is available under the [vertexai](https://cloud.google.com/python/docs/reference/aiplatform/latest/vertexai) package of the SDK.\n",
    "\n",
    "You may see some warning messages from the TensorFlow library but you can ignore them."
   ]
  },
  {
   "cell_type": "code",
   "execution_count": 8,
   "metadata": {
    "id": "pY8M4DqO8wGx",
    "tags": []
   },
   "outputs": [
    {
     "name": "stderr",
     "output_type": "stream",
     "text": [
      "2024-03-12 13:25:53.708377: I external/local_tsl/tsl/cuda/cudart_stub.cc:32] Could not find cuda drivers on your machine, GPU will not be used.\n",
      "2024-03-12 13:25:53.714017: I external/local_tsl/tsl/cuda/cudart_stub.cc:32] Could not find cuda drivers on your machine, GPU will not be used.\n",
      "2024-03-12 13:25:53.784513: I tensorflow/core/platform/cpu_feature_guard.cc:210] This TensorFlow binary is optimized to use available CPU instructions in performance-critical operations.\n",
      "To enable the following instructions: AVX2 FMA, in other operations, rebuild TensorFlow with the appropriate compiler flags.\n"
     ]
    },
    {
     "name": "stdout",
     "output_type": "stream",
     "text": [
      "Requirement already satisfied: Tensorflow in /opt/conda/lib/python3.10/site-packages (2.16.1)\n",
      "Requirement already satisfied: absl-py>=1.0.0 in /opt/conda/lib/python3.10/site-packages (from Tensorflow) (2.1.0)\n",
      "Requirement already satisfied: astunparse>=1.6.0 in /opt/conda/lib/python3.10/site-packages (from Tensorflow) (1.6.3)\n",
      "Requirement already satisfied: flatbuffers>=23.5.26 in /opt/conda/lib/python3.10/site-packages (from Tensorflow) (24.3.7)\n",
      "Requirement already satisfied: gast!=0.5.0,!=0.5.1,!=0.5.2,>=0.2.1 in /opt/conda/lib/python3.10/site-packages (from Tensorflow) (0.5.4)\n",
      "Requirement already satisfied: google-pasta>=0.1.1 in /opt/conda/lib/python3.10/site-packages (from Tensorflow) (0.2.0)\n",
      "Requirement already satisfied: h5py>=3.10.0 in /opt/conda/lib/python3.10/site-packages (from Tensorflow) (3.10.0)\n",
      "Requirement already satisfied: libclang>=13.0.0 in /opt/conda/lib/python3.10/site-packages (from Tensorflow) (16.0.6)\n",
      "Requirement already satisfied: ml-dtypes~=0.3.1 in /opt/conda/lib/python3.10/site-packages (from Tensorflow) (0.3.2)\n",
      "Requirement already satisfied: opt-einsum>=2.3.2 in /opt/conda/lib/python3.10/site-packages (from Tensorflow) (3.3.0)\n",
      "Requirement already satisfied: packaging in /opt/conda/lib/python3.10/site-packages (from Tensorflow) (23.2)\n",
      "Requirement already satisfied: protobuf!=4.21.0,!=4.21.1,!=4.21.2,!=4.21.3,!=4.21.4,!=4.21.5,<5.0.0dev,>=3.20.3 in /opt/conda/lib/python3.10/site-packages (from Tensorflow) (3.20.3)\n",
      "Requirement already satisfied: requests<3,>=2.21.0 in /opt/conda/lib/python3.10/site-packages (from Tensorflow) (2.31.0)\n",
      "Requirement already satisfied: setuptools in /opt/conda/lib/python3.10/site-packages (from Tensorflow) (69.1.1)\n",
      "Requirement already satisfied: six>=1.12.0 in /opt/conda/lib/python3.10/site-packages (from Tensorflow) (1.16.0)\n",
      "Requirement already satisfied: termcolor>=1.1.0 in /opt/conda/lib/python3.10/site-packages (from Tensorflow) (2.4.0)\n",
      "Requirement already satisfied: typing-extensions>=3.6.6 in /opt/conda/lib/python3.10/site-packages (from Tensorflow) (4.10.0)\n",
      "Requirement already satisfied: wrapt>=1.11.0 in /opt/conda/lib/python3.10/site-packages (from Tensorflow) (1.16.0)\n",
      "Requirement already satisfied: grpcio<2.0,>=1.24.3 in /opt/conda/lib/python3.10/site-packages (from Tensorflow) (1.62.0)\n",
      "Requirement already satisfied: tensorboard<2.17,>=2.16 in /opt/conda/lib/python3.10/site-packages (from Tensorflow) (2.16.2)\n",
      "Requirement already satisfied: keras>=3.0.0 in /opt/conda/lib/python3.10/site-packages (from Tensorflow) (3.0.5)\n",
      "Requirement already satisfied: tensorflow-io-gcs-filesystem>=0.23.1 in /opt/conda/lib/python3.10/site-packages (from Tensorflow) (0.36.0)\n",
      "Requirement already satisfied: numpy<2.0.0,>=1.23.5 in /opt/conda/lib/python3.10/site-packages (from Tensorflow) (1.25.2)\n",
      "Requirement already satisfied: wheel<1.0,>=0.23.0 in /opt/conda/lib/python3.10/site-packages (from astunparse>=1.6.0->Tensorflow) (0.42.0)\n",
      "Requirement already satisfied: rich in /opt/conda/lib/python3.10/site-packages (from keras>=3.0.0->Tensorflow) (13.7.1)\n",
      "Requirement already satisfied: namex in /opt/conda/lib/python3.10/site-packages (from keras>=3.0.0->Tensorflow) (0.0.7)\n",
      "Requirement already satisfied: dm-tree in /opt/conda/lib/python3.10/site-packages (from keras>=3.0.0->Tensorflow) (0.1.8)\n",
      "Requirement already satisfied: charset-normalizer<4,>=2 in /opt/conda/lib/python3.10/site-packages (from requests<3,>=2.21.0->Tensorflow) (3.3.2)\n",
      "Requirement already satisfied: idna<4,>=2.5 in /opt/conda/lib/python3.10/site-packages (from requests<3,>=2.21.0->Tensorflow) (3.6)\n",
      "Requirement already satisfied: urllib3<3,>=1.21.1 in /opt/conda/lib/python3.10/site-packages (from requests<3,>=2.21.0->Tensorflow) (1.26.18)\n",
      "Requirement already satisfied: certifi>=2017.4.17 in /opt/conda/lib/python3.10/site-packages (from requests<3,>=2.21.0->Tensorflow) (2024.2.2)\n",
      "Requirement already satisfied: markdown>=2.6.8 in /opt/conda/lib/python3.10/site-packages (from tensorboard<2.17,>=2.16->Tensorflow) (3.5.2)\n",
      "Requirement already satisfied: tensorboard-data-server<0.8.0,>=0.7.0 in /opt/conda/lib/python3.10/site-packages (from tensorboard<2.17,>=2.16->Tensorflow) (0.7.2)\n",
      "Requirement already satisfied: werkzeug>=1.0.1 in /opt/conda/lib/python3.10/site-packages (from tensorboard<2.17,>=2.16->Tensorflow) (3.0.1)\n",
      "Requirement already satisfied: MarkupSafe>=2.1.1 in /opt/conda/lib/python3.10/site-packages (from werkzeug>=1.0.1->tensorboard<2.17,>=2.16->Tensorflow) (2.1.5)\n",
      "Requirement already satisfied: markdown-it-py>=2.2.0 in /opt/conda/lib/python3.10/site-packages (from rich->keras>=3.0.0->Tensorflow) (3.0.0)\n",
      "Requirement already satisfied: pygments<3.0.0,>=2.13.0 in /opt/conda/lib/python3.10/site-packages (from rich->keras>=3.0.0->Tensorflow) (2.17.2)\n",
      "Requirement already satisfied: mdurl~=0.1 in /opt/conda/lib/python3.10/site-packages (from markdown-it-py>=2.2.0->rich->keras>=3.0.0->Tensorflow) (0.1.2)\n"
     ]
    }
   ],
   "source": [
    "# init the vertexai package\n",
    "import vertexai\n",
    "!pip install Tensorflow\n",
    "\n",
    "vertexai.init(project=PROJECT_ID, location=LOCATION)"
   ]
  },
  {
   "cell_type": "markdown",
   "metadata": {
    "id": "jrG82n-y-EC5"
   },
   "source": [
    "From the package, import [TextEmbeddingModel](https://cloud.google.com/python/docs/reference/aiplatform/latest/vertexai.language_models.TextEmbeddingModel) and get a model."
   ]
  },
  {
   "cell_type": "code",
   "execution_count": 9,
   "metadata": {
    "id": "YVLHjSeOGoTu",
    "tags": []
   },
   "outputs": [],
   "source": [
    "# Load the text embeddings model\n",
    "from vertexai.preview.language_models import TextEmbeddingModel\n",
    "\n",
    "model = TextEmbeddingModel.from_pretrained(\"textembedding-gecko@001\")"
   ]
  },
  {
   "cell_type": "markdown",
   "metadata": {
    "id": "FqdVsgZDb_hc"
   },
   "source": [
    "In this tutorial we will use `textembedding-gecko@001` model for getting text embeddings. Please take a look at [Supported models](https://cloud.google.com/vertex-ai/docs/generative-ai/embeddings/get-text-embeddings#supported_models) on the doc to see the list of supported models.\n",
    "\n",
    "Once you get the model, you can call its [get_embeddings](https://cloud.google.com/python/docs/reference/aiplatform/latest/vertexai.language_models.TextEmbeddingModel#vertexai_language_models_TextEmbeddingModel_get_embeddings) function to get embeddings. You can pass up to 5 texts at once in a call. But there is a caveat. By default, the text embeddings API has a \"request per minute\" quota set to 60 for new Cloud projects and 600 for projects with usage history (see [Quotas and limits](https://cloud.google.com/vertex-ai/docs/quotas#request_quotas) to check the latest quota value for `base_model:textembedding-gecko`). So, rather than using the function directly, you may want to define a wrapper like below to limit under 10 calls per second, and pass 5 texts each time."
   ]
  },
  {
   "cell_type": "code",
   "execution_count": 10,
   "metadata": {
    "id": "8HUb9u_P2VWW",
    "tags": []
   },
   "outputs": [],
   "source": [
    "import time\n",
    "import tqdm  # to show a progress bar\n",
    "\n",
    "# get embeddings for a list of texts\n",
    "BATCH_SIZE = 5\n",
    "\n",
    "\n",
    "def get_embeddings_wrapper(texts):\n",
    "    embs = []\n",
    "    for i in tqdm.tqdm(range(0, len(texts), BATCH_SIZE)):\n",
    "        time.sleep(1)  # to avoid the quota error\n",
    "        result = model.get_embeddings(texts[i : i + BATCH_SIZE])\n",
    "        embs = embs + [e.values for e in result]\n",
    "    return embs"
   ]
  },
  {
   "cell_type": "markdown",
   "metadata": {
    "id": "aK4eTSPfcEuh"
   },
   "source": [
    "The following code will get embedding for the question titles and add them as a new column `embedding` to the DataFrame. This will take a few minutes."
   ]
  },
  {
   "cell_type": "code",
   "execution_count": 11,
   "metadata": {
    "id": "FcqPvu4PluN1",
    "tags": []
   },
   "outputs": [
    {
     "name": "stderr",
     "output_type": "stream",
     "text": [
      "100%|██████████| 200/200 [03:42<00:00,  1.11s/it]\n"
     ]
    },
    {
     "data": {
      "text/html": [
       "<div>\n",
       "<style scoped>\n",
       "    .dataframe tbody tr th:only-of-type {\n",
       "        vertical-align: middle;\n",
       "    }\n",
       "\n",
       "    .dataframe tbody tr th {\n",
       "        vertical-align: top;\n",
       "    }\n",
       "\n",
       "    .dataframe thead th {\n",
       "        text-align: right;\n",
       "    }\n",
       "</style>\n",
       "<table border=\"1\" class=\"dataframe\">\n",
       "  <thead>\n",
       "    <tr style=\"text-align: right;\">\n",
       "      <th></th>\n",
       "      <th>id</th>\n",
       "      <th>title</th>\n",
       "      <th>embedding</th>\n",
       "    </tr>\n",
       "  </thead>\n",
       "  <tbody>\n",
       "    <tr>\n",
       "      <th>0</th>\n",
       "      <td>73250763</td>\n",
       "      <td>Error CS0246: The type or namespace name 'Stre...</td>\n",
       "      <td>[-0.02774483524262905, 0.010048817843198776, -...</td>\n",
       "    </tr>\n",
       "    <tr>\n",
       "      <th>1</th>\n",
       "      <td>73206525</td>\n",
       "      <td>Keycloak 19.0 behind nginx (https) admin conso...</td>\n",
       "      <td>[-0.0495707169175148, 0.021820401772856712, 0....</td>\n",
       "    </tr>\n",
       "    <tr>\n",
       "      <th>2</th>\n",
       "      <td>73475664</td>\n",
       "      <td>Citing Institutional Author or Organization in...</td>\n",
       "      <td>[-0.007552702911198139, -0.008695865981280804,...</td>\n",
       "    </tr>\n",
       "    <tr>\n",
       "      <th>3</th>\n",
       "      <td>73399777</td>\n",
       "      <td>Azure build failing due to Method not found: '...</td>\n",
       "      <td>[-0.0029502741526812315, -0.025221263989806175...</td>\n",
       "    </tr>\n",
       "    <tr>\n",
       "      <th>4</th>\n",
       "      <td>73426773</td>\n",
       "      <td>UnboundLocalError: local variable 'raw_labels'...</td>\n",
       "      <td>[0.005036971066147089, 0.03410046175122261, 0....</td>\n",
       "    </tr>\n",
       "  </tbody>\n",
       "</table>\n",
       "</div>"
      ],
      "text/plain": [
       "         id                                              title  \\\n",
       "0  73250763  Error CS0246: The type or namespace name 'Stre...   \n",
       "1  73206525  Keycloak 19.0 behind nginx (https) admin conso...   \n",
       "2  73475664  Citing Institutional Author or Organization in...   \n",
       "3  73399777  Azure build failing due to Method not found: '...   \n",
       "4  73426773  UnboundLocalError: local variable 'raw_labels'...   \n",
       "\n",
       "                                           embedding  \n",
       "0  [-0.02774483524262905, 0.010048817843198776, -...  \n",
       "1  [-0.0495707169175148, 0.021820401772856712, 0....  \n",
       "2  [-0.007552702911198139, -0.008695865981280804,...  \n",
       "3  [-0.0029502741526812315, -0.025221263989806175...  \n",
       "4  [0.005036971066147089, 0.03410046175122261, 0....  "
      ]
     },
     "execution_count": 11,
     "metadata": {},
     "output_type": "execute_result"
    }
   ],
   "source": [
    "# get embeddings for the question titles and add them as \"embedding\" column\n",
    "df = df.assign(embedding=get_embeddings_wrapper(list(df.title)))\n",
    "df.head()"
   ]
  },
  {
   "cell_type": "markdown",
   "metadata": {
    "id": "nB53SiJjVN6e"
   },
   "source": [
    "## Look at the embedding similarities\n",
    "\n",
    "Let's see how these embeddings are organized in the embedding space with their meanings by quickly calculating the similarities between them and sorting them.\n",
    "\n",
    "As embeddings are vectors, you can calculate similarity between two embeddings by using one of the popular metrics like the followings:\n",
    "\n",
    "![](https://storage.googleapis.com/github-repo/img/embeddings/textemb-vs-notebook/8.png)\n",
    "\n",
    "Which metric should we use? Usually it depends on how each model is trained. In case of the model `textembedding-gecko@001`, we need to use inner product (dot product).\n",
    "\n",
    "In the following code, it picks up one question randomly and uses the numpy `np.dot` function to calculate the similarities between the question and other questions."
   ]
  },
  {
   "cell_type": "code",
   "execution_count": 12,
   "metadata": {
    "id": "lKs6jSu7NiM6",
    "tags": []
   },
   "outputs": [
    {
     "data": {
      "text/plain": [
       "array([0.55802424, 0.51813118, 0.54569165, 0.55765493, 0.57072769])"
      ]
     },
     "execution_count": 12,
     "metadata": {},
     "output_type": "execute_result"
    }
   ],
   "source": [
    "import random\n",
    "import numpy as np\n",
    "\n",
    "# pick one of them as a key question\n",
    "key = random.randint(0, len(df))\n",
    "\n",
    "# calc dot product between the key and other questions\n",
    "embs = np.array(df.embedding.to_list())\n",
    "similarities = np.dot(embs[key], embs.T)\n",
    "\n",
    "# print similarities for the first 5 questions\n",
    "similarities[:5]"
   ]
  },
  {
   "cell_type": "markdown",
   "metadata": {
    "id": "srM04lJBQp4w"
   },
   "source": [
    "Finally, sort the questions with the similarities and print the list."
   ]
  },
  {
   "cell_type": "code",
   "execution_count": 13,
   "metadata": {
    "id": "lTUVvj9FQlab",
    "tags": []
   },
   "outputs": [
    {
     "name": "stdout",
     "output_type": "stream",
     "text": [
      "Key question: How to use Header Footer in Reactjs\n",
      "\n",
      "1.0000 How to use Header Footer in Reactjs\n",
      "0.7569 React Components: How To Structure React Live Search Form With Infinite Scrolling\n",
      "0.7483 Bootstrap navbar toggler is not working in reactjs\n",
      "0.7456 Apply Material UI component styles to my Custom Component - React\n",
      "0.7293 How is BackHandler is working in react Native\n",
      "0.7180 syntax highlighting error using styled components in nextjs\n",
      "0.7168 How to show the information of the selected row with DataTable React.js\n",
      "0.7126 Pass useState function as props\n",
      "0.7095 set childNodes dynamicly styles with array of colors in reactjs\n",
      "0.7024 Custom React Component\n",
      "0.7005 In \"Intro.js\" and \"Intro.js-react\", the first step appears twice\n",
      "0.6961 React does not recognize the `hasCreate` prop on a DOM element\n",
      "0.6957 Set rgba value for statusbar background React Native iOS/Android\n",
      "0.6942 Select the text from one textarea and show the same but capitilized text in other textarea in react js\n",
      "0.6938 Show Bottom Tab Bar on Stack Screen React Native\n",
      "0.6933 React grid layout - Local storage with add/remove widgets\n",
      "0.6866 How to set several classes for React-Router 6 NavLink?\n",
      "0.6857 React key error although all elements have unique identifier\n",
      "0.6820 How to destructure object in React with special characters in key\n",
      "0.6802 react parent component re-rendering again after all components have been rendered\n"
     ]
    }
   ],
   "source": [
    "# print the question\n",
    "print(f\"Key question: {df.title[key]}\\n\")\n",
    "\n",
    "# sort and print the questions by similarities\n",
    "sorted_questions = sorted(\n",
    "    zip(df.title, similarities), key=lambda x: x[1], reverse=True\n",
    ")[:20]\n",
    "for i, (question, similarity) in enumerate(sorted_questions):\n",
    "    print(f\"{similarity:.4f} {question}\")"
   ]
  },
  {
   "cell_type": "markdown",
   "metadata": {
    "id": "S75SQzAg1wHV"
   },
   "source": [
    "# Find embeddings fast with Vertex AI Vector Search\n",
    "\n",
    "As we have explained above, you can find similar embeddings by calculating the distance or similarity between the embeddings.\n",
    "\n",
    "But this isn't easy when you have millions or billions of embeddings. For example, if you have 1 million embeddings with 768 dimensions, you need to repeat the distance calculations for 1 million x 768 times. This would take some seconds - too slow."
   ]
  },
  {
   "cell_type": "markdown",
   "metadata": {
    "id": "0sjhTy-a47YH"
   },
   "source": [
    "So the researchers have been studying a technique called [Approximate Nearest Neighbor (ANN)](https://en.wikipedia.org/wiki/Nearest_neighbor_search) for faster search. ANN uses \"vector quantization\" for separating the space into multiple spaces with a tree structure. This is similar to the index in relational databases for improving the query performance, enabling very fast and scalable search with billions of embeddings.\n",
    "\n",
    "With the rise of LLMs, the ANN is getting popular quite rapidly, known as the Vector Search technology.\n",
    "\n",
    "![](https://storage.googleapis.com/gweb-cloudblog-publish/images/7._ANN.1143068821171228.max-2200x2200.png)\n",
    "\n",
    "In 2020, Google Research published a new ANN algorithm called [ScaNN](https://ai.googleblog.com/2020/07/announcing-scann-efficient-vector.html). It is considered one of the best ANN algorithms in the industry, also the most important foundation for search and recommendation in major Google services such as Google Search, YouTube and many others.\n"
   ]
  },
  {
   "cell_type": "markdown",
   "metadata": {
    "id": "xVOL8BgM2isz"
   },
   "source": [
    "## What is Vertex AI Vector Search?\n",
    "\n",
    "Google Cloud developers can take the full advantage of Google's vector search technology with [Vertex AI Vector Search](https://cloud.google.com/vertex-ai/docs/vector-search/overview) (previously called Matching Engine). With this fully managed service, developers can just add the embeddings to its index and issue a search query with a key embedding for the blazingly fast vector search. In the case of the Stack Overflow demo, Vector Search can find relevant questions from 8 million embeddings in tens of milliseconds.\n",
    "\n",
    "![](https://storage.googleapis.com/github-repo/img/embeddings/textemb-vs-notebook/9.png)\n",
    "\n",
    "With Vector Search, you don't need to spend much time and money building your own vector search service from scratch or using open source tools if your goal is high scalability, availability and maintainability for production systems."
   ]
  },
  {
   "cell_type": "markdown",
   "metadata": {
    "id": "uBt8tjidSzyU"
   },
   "source": [
    "## Get Started with Vector Search\n",
    "\n",
    "When you already have the embeddings, then getting started with Vector Search is pretty easy. In this section, we will follow the steps below.\n",
    "\n",
    "### Setting up Vector Search\n",
    "- Save the embeddings in JSON files on Cloud Storage\n",
    "- Build an Index\n",
    "- Create an Index Endpoint\n",
    "- Deploy the Index to the endpoint\n",
    "\n",
    "### Use Vector Search\n",
    "\n",
    "- Query with the endpoint\n",
    "\n",
    "### **Tip for Colab users**\n",
    "\n",
    "If you use Colab for this tutorial, you may lose your runtime while you are waiting for the Index building and deployment in the later sections as it takes tens of minutes. In that case, run the following sections again with the new instance to recover the runtime: [Install Python SDK, Environment variables and Authentication](https://colab.research.google.com/drive/1xJhLFEyPqW0qvKiERD6aYgeTHa6_U50N?resourcekey=0-2qUkxckCjt6W03AsqvZHhw#scrollTo=AtXnXhF8U-8R&line=9&uniqifier=1).\n",
    "\n",
    "Then, use the [Utilities](https://colab.research.google.com/drive/1xJhLFEyPqW0qvKiERD6aYgeTHa6_U50N?resourcekey=0-2qUkxckCjt6W03AsqvZHhw#scrollTo=BE1tELsH-u8N&line=1&uniqifier=1) to recover the Index and Index Endpoint and continute with the rest."
   ]
  },
  {
   "cell_type": "markdown",
   "metadata": {
    "id": "6pu1a3zjfQ0D"
   },
   "source": [
    "### Save the embeddings in a JSON file\n",
    "To load the embeddings to Vector Search, we need to save them in JSON files with JSONL format. See more information in the docs at [Input data format and structure](https://cloud.google.com/vertex-ai/docs/matching-engine/match-eng-setup/format-structure#data-file-formats).\n",
    "\n",
    "First, export the `id` and `embedding` columns from the DataFrame in JSONL format, and save it."
   ]
  },
  {
   "cell_type": "code",
   "execution_count": 15,
   "metadata": {
    "id": "GzZ30d4j_uLU",
    "tags": []
   },
   "outputs": [
    {
     "name": "stdout",
     "output_type": "stream",
     "text": [
      "{\"id\":73250763,\"embedding\":[-0.0277448352,0.0100488178,-0.0102676898,0.0392114818,0.0455791801,-0.0347427391,0.0737279281,-0.0002119823,0.0509295091,0.0542678684,-0.0117125632,0.021318553,-0.0287762005,-0.007681292,-0.0209492035,-0.0133563038,0.0242112391,-0.0090292552,0.0440287031,0.0161685832,-0.0760302618,-0.0196898468,0.0090164784,0.0170125477,0.0152050303,-0.0773577392,0.0297305323,0.0188999195,-0.0039089536,0.0099063125,-0.007229222,0.0192946829,-0.0227478445,-0.004626248,0.0007195401,0.0397832617,-0.0022034233,-0.0217461828,-0.0118153272,0.0325450785,0.0010640718,0.0440404899,0.0545283146,-0.0111322757,0.0010621534,0.0027453925,-0.0189848915,0.065528363,0.0051437751,-0.0660601705,-0.007593432,-0.0579020493,-0.0143173942,0.042321492,-0.0233763196,0.0262517426,-0.0412596539,0.0025961311,-0.0309717935,0.0202038195,0.0206118282,-0.0157958325,0.0478128083,-0.0161798764,-0.0106134722,0.0417857021,0.0429887995,-0.0038106898,-0.0493093282,-0.0261975862,0.0634441227,-0.017848568,0.0216528177,-0.0549305603,0.029246483,0.0289032832,0.0201147832,0.0314898826,0.0828272998,-0.0785366744,0.0073279561,-0.026598921,-0.0285517331,-0.1051387563,0.0000617073,0.0352814645,-0.0477630608,0.0653127581,-0.0229405444,0.0178086609,0.0089905085,0.0340218097,-0.0081371963,0.0027613735,-0.0275637005,0.0174364168,-0.032602638,0.0191413779,0.0511988029,-0.0409463644,-0.0253778026,-0.0596975684,0.066151008,-0.0531563498,-0.0035412826,-0.006051152,-0.0329418406,0.0704620034,0.0007516055,-0.0729281455,-0.0552249849,-0.0143584115,0.0108136265,0.0308216177,-0.0196642764,-0.0605858974,0.0127666565,-0.0070208693,0.0267473124,-0.026156351,-0.0350964405,-0.0098010562,0.0459751785,0.0282666571,0.0116555076,0.0112305321,0.054565046,0.0141588626,0.0045195925,-0.0165295824,0.0851776302,0.0217266008,0.035930898,-0.0020685957,0.0569312721,0.080098547,-0.0295093935,0.0179532468,0.0219286773,-0.0228456669,0.0286791138,-0.0331612453,-0.0248226952,0.0007954416,-0.0179825742,-0.1142977849,0.0170464683,-0.0600770935,-0.0145933805,-0.0309533607,0.0440070555,-0.0203425027,0.010430566,0.0204152931,0.0245635584,0.0257299598,0.0278035291,0.0418664999,-0.0373761132,-0.0284667145,-0.0200740583,-0.0458276272,0.0176755488,-0.0400520563,0.0392167382,0.0371111259,0.0118536195,0.0353907235,0.0365188941,0.01874399,0.0419203751,-0.1254610717,-0.0059960019,-0.0693005472,0.0381729566,0.0049353507,0.012572065,0.0259208027,-0.0098799625,-0.0326761492,-0.0170281772,-0.0432687402,0.0115450053,-0.0559907071,-0.0631812587,0.0177053344,0.0083565116,0.0116560683,-0.0297188498,0.0469324253,-0.0175751727,0.0891897678,0.0408866853,-0.0468139686,-0.0518699139,0.010173576,0.0424724817,-0.1269559115,-0.0017824897,0.0343093127,-0.012292169,-0.0193579048,0.0197638143,0.0048854579,-0.0347811207,0.0337272063,-0.0411091447,0.0181274544,-0.0083050141,0.0032396731,-0.0106897326,0.0286512934,0.0225673094,0.0315953977,0.0210457873,-0.0300705209,-0.0138929738,0.0049814074,-0.0532061495,0.0113476468,-0.0125665963,0.0332665145,0.0633635297,0.0238526538,-0.0214996245,0.0164695978,0.0189614762,0.0364203528,0.0072206352,0.0212513618,-0.0105384691,0.0029687902,0.0089382492,-0.0003317356,0.0149756288,0.042610351,0.0215696283,0.0591700375,-0.0745347217,0.0112221483,0.0096742772,0.0809497386,-0.0342313014,0.0534378625,-0.0190599728,-0.00515624,-0.0537560917,0.0037615825,-0.0012072728,-0.0109938644,0.0350735597,-0.0316402726,-0.0194756351,0.0112104882,-0.0200637579,-0.0012164762,-0.0002650616,0.0161201507,-0.0244577564,0.0386840254,-0.0155395856,-0.0469647795,0.0607313775,0.1148407906,-0.0147524942,-0.0495238751,-0.03053209,0.0265615825,0.0254994277,-0.0567338578,-0.0472300872,-0.0096003152,0.062887609,-0.0021846439,-0.0004136823,-0.0197764914,-0.0073560635,0.0196835268,0.0371285714,0.0057505188,-0.0514138751,-0.0109452065,0.0040610516,0.025425287,-0.0203117076,0.0273510832,-0.0125412038,0.0345021933,-0.0957452729,0.0496903919,-0.0030766402,0.0094767986,-0.0352729894,0.0795324221,-0.0251882263,-0.0023217278,0.0382206738,-0.0461453125,-0.0197117254,0.0019909267,0.0246817414,0.0000119591,0.0490202755,-0.0349365436,0.0019263308,-0.0139099928,0.0119567374,0.021343315,0.0557812005,0.0070377658,0.0219099931,0.0134178726,-0.017929893,0.0472864434,-0.0526895747,-0.0054822266,0.0004524083,-0.039607536,0.0377895124,0.0677966997,-0.0211345442,-0.0275298487,0.0688182414,-0.0312189739,-0.0012517615,-0.0080150785,0.0565687679,0.0078275912,0.0348894596,-0.0134484544,-0.0630518198,0.0367983654,0.0271608476,-0.0164509062,0.0267976616,0.0338683985,0.0015718682,0.0385898799,0.0493451357,-0.0415552221,0.0555906221,-0.0586976632,-0.0705887899,-0.0213770811,-0.0323635489,0.0338394381,-0.0189055745,-0.0314934999,0.010815762,-0.066068314,0.0093443822,0.0227188859,-0.0465068668,0.0494288243,0.0776270553,0.0233415421,-0.0291574318,-0.0401337855,0.0467995815,0.0256301779,-0.0657358393,0.0039096363,0.0105684167,0.0426633134,0.0051075909,0.0046457471,-0.0262460802,0.0331433155,-0.0250258464,0.0010842242,-0.0024725022,-0.0026905662,0.0182383507,0.0042067128,-0.0370397195,-0.0213736761,-0.0347061753,-0.0552194864,0.0268820282,0.0350548364,-0.0326035097,0.0242961086,0.0372125655,0.0048372969,-0.0020545938,0.0221850388,-0.0025156143,0.0226547979,0.0391084291,-0.0895293951,0.0581878833,0.0566034205,-0.0044166446,-0.0144016203,0.0317522436,0.0429553725,-0.0466769375,-0.0120122423,-0.0247576386,-0.0389998853,0.0477186255,-0.0005290808,-0.0750747547,-0.0353768878,0.0439421721,-0.0021101844,0.0265320968,0.036870677,0.0361165255,-0.002481973,0.000962608,-0.0230818111,0.0074176313,0.0082251104,0.0389404073,-0.005549123,-0.0017335902,0.0081122797,0.0550507568,0.0035389501,0.0368940607,-0.0542126223,-0.0424121879,0.0281305145,0.0083277561,0.0079791714,-0.1126784682,0.0197807103,-0.0519914217,0.0149804195,-0.0640179664,0.016148027,-0.022125626,-0.0724154264,-0.0159346517,-0.0407847837,0.0198355,0.0917344168,0.0518932603,0.0098265465,-0.0278914291,0.0099266106,-0.0571524836,-0.0095705111,-0.0291226432,-0.0281098951,-0.0623994395,0.0221451335,-0.0221758485,0.0214456879,-0.0746078119,-0.0253949426,0.0177822877,0.0118253734,-0.0200985093,0.0658546314,0.0114702126,0.018243704,0.0248838067,0.0467310548,-0.0131267803,0.0067660892,-0.0395028032,0.0583851375,0.020408839,0.0260103177,0.0211268011,0.040749941,-0.0131906513,0.0205567423,-0.0701364875,0.0695360824,-0.0594510809,-0.0175512042,0.0563443042,0.0069459151,-0.0216847099,0.0526181757,0.0159101486,0.0293458011,-0.0606347732,-0.0092198113,0.002665472,-0.0073209861,-0.0228391141,0.0415749513,0.0212011207,-0.0013037941,-0.0001976397,0.0226866864,0.0039983713,-0.0274912789,-0.0043740976,-0.0023312233,-0.0104152216,0.0145262452,-0.0036215675,-0.0095282085,0.0461015962,-0.0134778181,0.0550445355,0.0410003103,0.0143416841,-0.028324116,-0.0122314626,-0.0184186772,-0.0043515698,-0.0293840691,-0.0709192976,-0.002523134,0.0015274615,0.0220348462,-0.0122698052,-0.0059605483,0.0213356744,-0.0304783769,-0.0152739286,0.0584312938,0.0123593789,-0.0106868083,0.0249153338,0.0068353787,-0.0195858441,0.0354487449,0.067077741,0.0367168374,0.000066851,-0.0379073583,-0.0068301903,-0.0097886408,0.0275110453,0.0620418563,0.0237820446,0.0121359611,-0.0203762036,-0.0417776741,0.0144557217,0.0525343604,0.0408385396,0.0932727009,-0.0255985055,-0.0687223822,0.0542281717,0.0275365133,-0.001591929,0.0295277983,0.0292732101,0.0292316675,0.0213931501,0.0253420752,0.0035196682,-0.0583507232,-0.0341305509,0.0367601067,0.0434603952,-0.028882198,0.0215143003,-0.0484414436,-0.0580052398,-0.0410967246,0.0182770286,0.0034968795,-0.0150759881,-0.007193082,0.0439505912,0.0104795238,0.0486780927,0.0052777482,0.0766362101,0.048386436,-0.0130493427,-0.0248990171,0.0053145322,-0.0129402103,-0.0614821427,0.0022413007,0.0052507524,0.0355179533,-0.0286562536,0.0101229902,-0.0001345304,0.0247124806,0.0258153323,0.0345842838,-0.0264247004,-0.0096426839,-0.013003529,-0.0350565836,0.0292442478,0.0141116595,0.00367695,-0.0462986454,-0.0450239517,-0.0094215786,0.0009398948,-0.0154615277,0.0090014543,-0.0086363936,0.0441487953,0.0283101443,-0.0285705328,-0.0215724073,0.050620798,-0.0362102054,0.0145259583,-0.0241751671,0.0521882884,0.0040157381,-0.0195353832,0.0519597679,0.0498456061,0.0254944172,-0.0227654614,-0.0288573541,0.0076355143,0.0010778457,-0.0215009209,0.0598795712,-0.0303983185,0.02599575,0.0332251005,-0.0611717105,-0.0014933558,-0.0478966571,0.0919503868,-0.0356259272,-0.0063990024,-0.025699839,-0.0357361287,-0.0314647481,0.0572769269,-0.0068321838,-0.0689303875,-0.0308363438,0.0266489368,-0.0327577814,-0.0168457665,-0.0033104536,0.06798549,0.040077053,0.041922763,0.0701996684,-0.000719719,-0.0488050729,-0.0011741139,-0.0159957949,-0.0279969405,-0.0084491484,-0.0219189655,0.0514427237,-0.0021820664,-0.0149946855,0.0214376822,-0.0239303652,-0.0495129898,-0.0325324759,0.0024118943,0.0429064147,-0.0208114367,0.0113695264,0.0487235747,0.0221603811,0.0070720827,0.0351434425,-0.0501694679,0.032984294,-0.0328492969,0.0100303488,0.0188418534,-0.0002191644,-0.0359325297,0.0108910743,0.011826775,-0.0307349823,0.0373961031,-0.0173394699,0.0407963991,0.0202803966,0.0359091572,-0.0307040438,-0.0852884352,0.0134095876,-0.0215232223,-0.0715860724,-0.0035626311,-0.021106923,0.0153305568,0.010818515,0.0456559733,-0.0537124984,-0.0150174322,0.0416892357,-0.0090261949,-0.0474792831,-0.0056839138,-0.0514100753,-0.0119295437,0.0109842541,0.0188786983,-0.0189558696,-0.0311433431,-0.0056243916,0.0318025909,0.0805803537,0.060492456,-0.0321889445,-0.0707469061,0.0221318174,0.0143425437,-0.0148691684,0.0130215045,-0.0364211351,0.0260994248,0.0215914585,0.00180698,0.0430103876,-0.0666167364,-0.0055431565,-0.0120786382,0.0236022621,-0.0294184051,-0.0186126921,0.0025118834,0.0009895719,0.0236180723,-0.0245330241,0.0162060745,-0.0836639777,-0.0300089866,0.0123985121,0.0132587757,-0.0399492122,-0.0071061105,0.0161753017,-0.0123913754,-0.0519126654,0.01888749,-0.0164316576,0.0230314918,-0.0558649637,-0.0200545993,-0.0025061602,-0.0566255748,0.017210938,0.0029187342,-0.0317586511,0.0067074532,-0.0446858406,-0.0283639636,-0.0338700637,-0.0214307904,0.0557516068,0.0098447418,0.028448442,-0.0042093229,0.0721730292,0.0015275141,0.0407336541,-0.0117455563,0.0318260826,-0.0116650267,0.0027630872,-0.0298543721,0.055099044,0.0280726552,-0.0357682891,-0.0696548596,-0.0220756233]}\n",
      "{\"id\":73206525,\"embedding\":[-0.0495707169,0.0218204018,0.0041898317,0.0062741097,0.0408841111,-0.0576436669,0.0083024157,0.014184121,-0.0205153469,-0.0152727561,0.0486336835,0.0526838228,0.0327543505,0.000123729,0.008503437,-0.0080424724,-0.052620396,-0.0522538237,0.0070816535,0.0042274403,-0.0340934172,-0.0024654001,0.001691533,-0.0425067991,-0.0278169587,-0.0562427565,-0.0021971478,-0.0098792305,-0.0266336277,0.0173911843,-0.0256040804,0.0273696184,-0.0134512521,-0.0259663258,-0.0455242544,0.0296085458,0.0227130204,0.0481295623,-0.0049241842,-0.0073679378,-0.0415873937,0.0362309031,-0.0061163977,0.01065988,0.0120783625,-0.0260859299,-0.0205394384,0.0340147503,-0.0340853445,-0.0305886529,-0.0482608415,-0.0052016508,-0.0186563991,0.0135762999,-0.0311178304,0.0436489619,-0.1004795879,-0.0417798683,-0.0386208519,0.0043234159,0.016661942,-0.0009523837,0.0411080606,-0.037724372,0.0138135571,0.0198137593,0.011512965,0.0321385264,-0.0372950919,-0.0132045858,0.0371005274,0.0574903637,0.0152779724,-0.0287645292,0.0741222277,-0.0165353734,-0.0151584242,0.012507353,0.028004216,-0.0454812013,0.0257347114,-0.0413711704,-0.0202779137,-0.1417347342,-0.0734210014,0.0610140413,-0.0130411796,0.0231666435,-0.0441967249,0.0059500108,-0.028070448,0.0254693385,0.0562075786,0.0220095776,-0.0547971465,0.0346001312,-0.0115156937,-0.0168184135,0.0017157863,-0.0012911225,-0.0477374047,0.0028799756,0.0325865112,-0.0187459979,0.0199609231,0.0094400439,-0.0742582008,0.0266733561,-0.0304015763,-0.0535653494,-0.1081101075,0.0426264964,-0.0360879451,0.0370403416,-0.0494625568,-0.0224421769,0.0516858287,0.0133005148,0.0025044179,-0.0025219747,-0.0555668101,0.0277733486,0.0218427312,-0.0241468009,0.0073981867,-0.0645510405,0.0339428484,-0.0259622745,-0.0291669462,-0.0380331241,0.0490133837,0.0546122305,0.0282672197,-0.0177876111,0.0081460066,0.0641132519,-0.0616843775,0.0566894487,0.0113143995,0.0451447442,-0.0091830231,0.0294240043,-0.0198981576,0.0436254479,-0.0104792994,-0.0131475199,0.0079988129,-0.0405809209,-0.0382695347,0.0180211756,0.0083266729,-0.0020479355,0.027405737,0.0174174346,0.0618012361,0.0580164008,0.050980892,0.01888147,0.0145700043,-0.013538898,0.0113800894,-0.0094748866,0.0033548356,-0.0075921617,0.0239802394,0.0427848361,-0.0376141295,0.0219798777,-0.0122603113,0.0039298912,0.0309818126,-0.0840259343,-0.0428114645,-0.0464677028,0.021664625,0.0487600602,0.0201012529,0.0257920213,0.0211392883,-0.0243142806,-0.0090832338,-0.0954249501,0.0493852198,0.0117046749,-0.0428607054,-0.0143616358,0.0230012182,-0.0175300725,-0.037286032,0.033088699,-0.0056255446,0.0197191518,0.0232620612,-0.0687963516,-0.045364067,0.012299181,0.0594419576,-0.0944793075,-0.0550899953,0.0075590704,0.034083914,-0.0611706562,-0.0319151618,0.0351321883,0.00143271,0.0418236367,-0.0254516862,0.0106128724,0.0035100912,-0.0011755952,0.0035271246,-0.0336136483,0.0749136731,-0.0063632377,0.018191563,-0.0111176567,-0.0233975891,-0.0467822999,-0.0759559646,0.0444830954,0.0355165526,-0.0406648032,0.030198738,-0.006129493,0.0091940351,0.0155669432,-0.005233428,0.0096910419,0.0371603072,-0.0171774589,-0.0528575294,0.0228102207,0.0116379885,-0.009422618,-0.0308545902,0.0172191542,-0.0028747101,0.0405811779,-0.0155603802,0.0435537696,0.0150482375,0.1343626529,-0.0303934328,0.0025309462,0.0002580787,0.0270759258,0.0073434776,0.0345480926,0.0394374691,-0.0276334211,0.0416581221,-0.0193634313,-0.0347514115,-0.0160913598,0.0179182012,-0.018355241,-0.0368149094,0.0695822164,-0.0497787222,0.0066115414,0.0504143909,0.0103916936,0.0551109314,0.0083872387,0.0401000045,-0.0699571148,-0.0100557655,0.0208489187,-0.0060999505,-0.0085473806,-0.0219301134,-0.0419828705,0.0196189862,0.0080657508,-0.0380295739,0.032025069,-0.0692361519,0.0664145276,-0.0035314648,0.0448932573,0.0148709444,-0.0544378795,-0.0070171133,0.0299728736,-0.0052539473,-0.0044203931,-0.01611856,-0.0019540857,-0.0271397773,-0.0539148599,0.0302218907,0.0344033018,0.0132808108,0.0651917085,0.0264786482,-0.0550718047,0.0252458267,-0.0195362065,-0.0389225371,0.0291655809,-0.0180491433,0.0071663554,0.014112181,-0.0212865677,0.0163878053,-0.0037631213,0.0220710691,-0.0119378502,0.0408819653,-0.0266211294,-0.0142910415,-0.0753288418,0.0294594541,0.0084416131,-0.0406984724,0.0249945913,0.0338557214,-0.0308303144,-0.0354067087,0.0350957066,-0.0274902936,-0.0327833407,0.0303582344,0.0069283363,-0.0190783665,-0.017064143,0.0758197382,-0.0284734461,0.0551361069,0.0075655496,-0.0315797329,0.0024440717,-0.0163219161,0.0209547542,-0.0280949064,0.0042993994,-0.0223060027,0.0392591655,-0.0181667581,-0.0599174388,0.0431262068,-0.0210149623,-0.0189855751,0.0515958518,-0.0475659892,0.0007792698,-0.0409073532,-0.0401193351,0.0203682017,-0.0368467271,-0.0056391195,0.0643424019,-0.0278788619,0.0128013231,0.0174325146,-0.0009190814,-0.0075681815,0.0145340785,0.0523252934,-0.0029713335,-0.0084488662,-0.0530587099,-0.0308961757,0.0219492409,0.0529355332,0.0025017557,-0.0259992424,0.0232710261,0.0677523911,-0.0174392406,-0.0406437367,-0.0182073377,-0.0097334674,-0.0121191563,-0.0359537303,0.0136371618,-0.0237625092,-0.0018410833,0.014429857,-0.0042782063,-0.0671768039,0.0777698383,0.0294770766,-0.0300838444,0.0068157157,-0.0013295832,0.0413102694,-0.0148098674,-0.0090917069,-0.0452275239,0.0039045946,0.02086767,0.0700499415,0.0171425976,-0.0301094037,0.0187869892,-0.0208248179,-0.0082377624,-0.0631314144,-0.017732488,0.031170005,0.0176486708,-0.055326879,-0.0674752221,-0.0121055162,0.042620901,0.0150426123,-0.0001916002,0.0185893495,-0.0935706943,0.0306087658,0.0151783507,0.0040226937,-0.0046153273,0.0044589513,-0.0620844774,0.0391073935,-0.029005954,0.0108659714,0.0476100221,0.0377488993,0.0244669653,-0.0764713734,0.0331415497,0.0406676009,0.021451164,0.0009533532,-0.0013505168,-0.0401071832,0.0370897502,-0.0023934792,0.0088265184,-0.0380419418,-0.0028260315,-0.0290342588,-0.0490853563,0.0788906515,0.0701626092,0.0014431558,0.0189190749,-0.011420629,0.0327245444,-0.0261902176,0.0284656063,-0.0106678884,-0.0233036093,0.0106926113,-0.0501177087,-0.0782029107,-0.0158882756,-0.0203085262,0.0070291404,0.0745202303,0.0694636032,-0.0523552373,0.0304781478,0.0162718818,0.0404177792,0.018214317,0.0608448349,-0.0386933088,0.0082626231,-0.0568953864,-0.0000156449,-0.0431403704,-0.0399386771,0.0585311241,0.0665993914,-0.0578963123,0.0132428948,0.0154763125,0.0177987758,-0.0021063627,-0.0219588615,0.0436180905,-0.0069156666,0.0657988414,0.0227487329,-0.0437469333,-0.015945876,-0.002587155,-0.018885985,-0.0022031104,-0.0117842397,-0.0063958503,0.0645658299,0.0465210453,-0.0047108633,-0.0035366553,-0.0538584851,0.0260898024,-0.0418531634,0.0198131371,-0.0491802432,-0.0006779704,-0.0229052268,0.0038656553,0.0346676148,0.0478556044,0.0555479452,0.0041357144,0.0435050949,0.0129553964,0.00945633,-0.0741614401,0.0682752207,-0.0120686581,-0.0339842476,-0.0200241134,0.0059530609,0.0425691605,0.0234727953,0.0008725507,0.0182239842,-0.0125708887,-0.0484641083,0.0206529927,0.0403638557,-0.0072026597,-0.0054187034,0.0360418111,-0.0524138212,-0.0143864444,0.0074515436,0.0292381365,0.0230735112,0.0098095294,-0.0223825295,-0.0228108522,-0.0219246596,0.060795188,0.0011462495,-0.0389291644,-0.0222061202,0.0121161798,-0.0537676476,0.0603014454,0.0134777902,0.0231586657,0.0445038192,-0.0182507429,-0.0182964206,0.090717569,0.0064328117,-0.0053280173,0.0282161608,-0.0398716033,0.0000526247,0.0383718461,0.0269637592,0.0239911657,-0.0552165695,0.0019178659,0.0704466328,0.0241656788,-0.0473995991,0.0075195604,-0.0395823009,-0.0066444217,-0.0388426222,-0.0490044877,-0.0152339302,-0.0476854444,-0.0020853817,0.0314798802,-0.0693829358,0.0638628379,0.0549007282,0.0190459434,0.0399090573,-0.0239937603,-0.03920554,-0.0159756858,0.0474579632,0.0245285835,0.0551063195,-0.0203140099,0.0721091107,-0.0036276241,0.0268393271,0.0232197419,0.0684285313,0.0796465427,0.0321544297,-0.0378295146,-0.0281921532,-0.019739259,-0.0624883026,-0.0026720155,0.0049300264,-0.0219187345,-0.0379044339,0.029159179,-0.0289349612,-0.0362108834,-0.0097563406,-0.0503639095,-0.0333457477,0.0184759479,0.0364466198,0.0219032373,0.0392624848,0.0019894827,-0.0607576333,-0.0072710128,0.0329465568,0.01722553,0.0217986777,0.0358702429,0.0058323299,0.0106490096,-0.0176205114,-0.043645177,0.0509647913,-0.0020070078,0.0069025299,0.0243738275,0.0308377724,0.0035271579,0.0032598551,0.0558887087,-0.0436646529,-0.0063086529,-0.0306657366,0.0531331375,-0.057600677,0.029601695,0.0060080141,-0.0261224397,-0.0087275868,0.0340369716,-0.0494254418,-0.0550861657,0.0077544856,0.0311284624,-0.0505668856,0.0254898239,0.0418906435,0.0526317842,0.0081450474,-0.0109459553,-0.0121012256,0.0234735552,0.0207727384,-0.0084687611,0.0458485745,-0.0361019149,-0.0706139877,-0.029606821,-0.0159214344,0.0117871277,-0.0355147794,0.0112742018,-0.0893247202,0.0565012842,-0.0304794181,-0.0146570075,0.0604559258,0.0210238881,-0.006421736,-0.0115226274,-0.0130093191,0.0168219265,0.0612670332,-0.0329999402,0.0328693129,0.0475081578,-0.0291285012,-0.0226607807,-0.0236566793,-0.033205092,-0.0423311926,0.0100076869,-0.016659122,0.0477573536,0.0096144611,0.0243280213,0.0405917317,0.0324415453,-0.0051002591,-0.0683732033,0.0185520314,0.0268359054,0.0158286728,0.0316252559,-0.0181309655,-0.0026871024,0.0152038401,0.0401999317,-0.0160218067,0.004212921,0.0005806537,-0.0218525026,-0.0095689967,-0.0081884488,-0.0814341977,-0.0607754588,-0.0314128175,-0.0245494954,0.0027857758,0.0317480229,-0.0042125364,0.0057993419,0.0311353616,0.0617248751,0.0171644259,-0.014054155,0.0074939537,-0.0033174148,-0.0806398913,-0.0013981862,-0.0072329659,0.0300571434,-0.0086457301,0.031735912,0.0513389148,-0.0408557691,-0.0096276049,0.005062242,-0.0089188227,-0.0023868289,0.012941381,0.0186659284,-0.0124540208,0.0029360789,-0.0174639281,-0.0130005311,-0.0446498506,-0.0266174022,0.0068583102,0.0056096171,-0.0174564198,0.053069327,0.0124706272,0.0110875992,0.0032254553,0.0563530363,0.0028272548,0.0289831515,-0.0137342839,0.0335770771,0.0705948919,-0.0177647658,0.0140082194,0.0185942389,0.0145442877,-0.0628590658,0.0076653343,-0.0521952286,-0.0506799109,-0.0167232528,0.0267158039,-0.0487568639,0.0616393536,0.0006392683,0.063744843,-0.0366056375,0.0742991194,0.0096966801,0.0753484294,-0.0775123686,-0.0083136596,-0.0773466155,0.0147584975,-0.0164694898,-0.0455534682,-0.0335436016,-0.029257331]}\n",
      "{\"id\":73475664,\"embedding\":[-0.0075527029,-0.008695866,-0.0365824923,0.0695013329,0.0396964066,-0.0384072028,0.008853972,0.046785295,-0.0457611047,-0.0048447805,0.0209536869,-0.0030703747,0.0360437036,-0.0340796225,-0.0175662842,0.0243444871,-0.0220746212,-0.014832058,0.0403636135,0.0404663198,-0.0477394536,-0.0026896296,-0.0017889662,0.0438164137,0.0239905585,-0.0429293923,0.0013204416,-0.002843678,-0.0598521456,-0.0240837503,0.0050444016,-0.0137032326,-0.0253379568,0.0061488864,0.0059065996,0.0011547572,-0.01461282,0.0555172712,0.0183510538,0.0155923208,-0.0268961303,-0.0510386899,0.023782149,0.0094463592,-0.0108946022,-0.0195519961,-0.0236344058,0.0420789123,0.0172348376,-0.0642305389,-0.022389004,-0.0277231112,0.0013723671,-0.0195090529,0.0060783662,0.0335330926,-0.039065171,-0.0369555317,-0.0275716837,-0.0351503678,-0.0086364467,-0.0130688902,0.0234303512,-0.0480602272,0.0041677938,0.044930879,-0.0003423633,0.0306197777,-0.0393195301,-0.068532154,0.0238742661,0.0497360267,-0.0342911258,-0.0236133803,0.0363317318,-0.0006010875,-0.0037258069,0.0317211673,-0.0139229316,-0.0234367605,0.0420252457,0.0065901657,-0.0202232897,-0.1306765974,-0.0533617586,0.059323173,-0.025967367,-0.0238347705,-0.0549830496,0.0490675271,-0.0566280857,0.0248238593,0.0133006219,0.0175878778,0.021469688,-0.0032990768,-0.0219178554,-0.009715585,-0.008757717,-0.0383327156,-0.006678232,-0.0537541583,0.0895666778,-0.0153135061,0.0065179574,-0.018004043,-0.0341717042,0.0747945756,-0.0696337149,-0.0655810535,-0.0095055737,0.0527930185,-0.0350276232,0.0218495764,-0.0311090555,0.0017175286,0.0383773632,0.0335843377,0.0473252982,-0.0024186461,0.0189850647,-0.0046411194,0.0543978997,-0.0127841691,-0.0269152243,0.0168858934,0.0559878983,0.0158862621,-0.0102976253,0.0061463309,0.0260419734,0.0128196711,-0.0003354107,-0.0190988518,0.0286018252,0.0204477198,0.0144930528,0.0051870178,0.0154249603,0.0494541004,-0.0232124478,-0.0168302264,-0.0008683007,0.0177113395,-0.0116311712,-0.0298697464,-0.0332197696,-0.0447789766,-0.0764305294,-0.0401480123,0.0056333388,-0.0121720871,-0.0286706593,0.0384505615,0.0093696238,0.0035634236,0.0320200808,-0.0049778796,0.0117222434,-0.0725691244,-0.0097538764,-0.0553255193,-0.0404214375,0.0232074782,0.0337046944,-0.0023066292,0.0435751863,0.0074487263,0.0155715346,-0.0301116537,0.0377623104,-0.1559313089,-0.0194284506,-0.0530281477,0.0864686295,-0.0101626609,-0.0265928321,0.0442923307,0.0347233936,-0.0401750766,0.0234566312,-0.0156057505,0.0055177677,0.0353629068,-0.0504737049,0.019994406,-0.0369083062,-0.012500952,-0.0230487585,0.057104513,-0.0173384547,0.030397011,0.0098953545,-0.0969288871,0.0135216713,-0.0241662227,0.0773048401,-0.1026203483,-0.0063943276,0.0060458262,-0.0499060117,-0.0448278598,0.0540473983,0.0764027312,0.0177692175,-0.0166517533,-0.0055999239,0.0410120003,0.016845284,-0.0162018295,-0.025006365,-0.0249528848,0.0139747113,-0.0080941785,0.0162009504,-0.0425761007,0.0248335227,-0.0424304046,-0.0761977956,-0.0341541804,-0.055669602,0.0197917931,-0.0268616937,0.0311898906,-0.025569601,0.0205921233,0.0144994222,0.0407986008,-0.0004683584,0.0001261274,0.0517434552,0.0165116172,-0.0042752717,0.0208834261,-0.0498217866,0.0282573923,-0.0381605364,-0.0384806991,-0.1040009409,0.0241950024,-0.0051380689,0.0638827309,-0.0459337309,0.0277064089,0.0035300381,0.0519974045,-0.0608587004,-0.0373055749,-0.0495338589,-0.0295092668,0.0384718589,0.0172421653,-0.0276330691,-0.0059141731,0.0566849262,-0.0033132269,-0.009972888,0.0607729703,0.0305114929,-0.0256911963,-0.0348841548,-0.019375857,0.0120934099,0.0708015785,0.0077812737,-0.0112009654,-0.0204062629,0.001652995,0.0326139331,-0.0338990688,-0.0139907654,0.0113853216,0.0485999659,0.011660574,0.0118974093,0.0126051614,-0.0537573583,0.0445518047,0.0119261267,0.0504691936,-0.0105240401,-0.026989907,0.032343898,0.0368992351,0.0138720563,0.0252014361,-0.00238762,0.0085115815,-0.0852817819,-0.0248129647,0.0176913925,-0.0305390134,0.0009412568,0.0498209186,0.0210225321,-0.0059768399,0.0097411638,-0.0458426289,-0.0487383604,0.0266012903,-0.0031680497,-0.0170578212,0.0365649611,0.0012586563,-0.077981934,-0.0285291076,0.0050664037,0.0019994485,0.0427896567,-0.0011894441,0.0192061346,-0.0124302013,-0.0277408548,0.0019676567,-0.0349860936,0.0133622009,0.0334651731,-0.0193752199,-0.0010804356,0.0175193269,-0.0237810239,0.0384132192,0.0969903618,0.0071525588,0.0040365634,-0.0544755682,0.03149933,-0.0162215959,0.0221319087,-0.0069803558,-0.0358547643,-0.0119616343,-0.0047529414,0.0018407978,-0.0362316109,0.0039195511,0.0433464125,0.0291393753,-0.0214154664,-0.0172210541,0.0082267113,-0.0086163273,-0.0036821924,-0.0297044795,-0.0193538219,0.0236915853,-0.0552870408,0.0040989188,-0.0184806865,-0.0112258699,-0.0061896681,0.0303260889,-0.0105145695,0.0400030874,0.0158923902,0.0176459737,-0.0329502374,0.0019219145,0.0536768734,0.0104674296,-0.075282447,0.0007397993,-0.0407211557,0.0667967573,-0.00023641,0.0455544442,-0.0263096076,0.0360086262,0.0492209122,-0.0456369221,0.0067396481,-0.0239138752,0.0193768442,-0.0619453192,0.0029298156,0.0442064069,0.0022536993,-0.0622062311,0.0252310019,-0.0239324793,-0.0011375864,0.0541636348,0.0165350419,-0.0175057556,-0.0450957194,0.033932481,0.0140282745,0.0353562571,-0.0287834387,-0.0181895085,0.0349221528,0.1048188135,0.0074530221,0.0080456203,-0.0084975166,-0.0176947508,-0.0069577992,0.0072240029,-0.0255217943,-0.0449008048,-0.0057181469,0.0298313461,-0.0896607786,-0.093442753,0.0342712179,-0.0144044096,-0.0131710488,0.0394186415,-0.0245728325,-0.0232250057,0.0464518331,-0.0149082756,-0.0008235467,0.0032610372,0.0758909211,-0.0491811037,0.0025050852,-0.05273683,0.0116299335,-0.0184429493,0.0563568845,0.012934505,-0.0097071119,0.0150359403,0.049861405,0.0013502359,-0.0524675027,0.0164774302,0.0404993221,-0.0086097727,-0.0095972652,-0.0345519036,0.0428831577,-0.0473687574,-0.019287264,0.0112712756,0.1005550921,0.0557118654,0.0004444949,-0.0021010961,-0.1267778873,0.0086690784,-0.0204125755,0.0485482588,-0.0092700869,-0.0116042746,-0.0525406301,-0.0542415008,0.0001984104,-0.0194378868,0.0040244339,0.0171042215,0.0480593555,0.0462407693,0.0233367849,0.0351356119,0.0065528741,-0.0283338185,-0.0051160208,0.014230188,-0.075921081,-0.0008658434,0.0316759571,0.0414917991,-0.0456811115,-0.03023744,0.0505621135,0.0173939746,-0.0173193645,0.0332465619,-0.0727186874,0.0517612621,0.0017647096,-0.0085519301,0.0195146147,0.0449334234,0.0264090244,0.0444051623,-0.0552353524,0.0576863289,-0.0516217723,-0.0233965758,0.0089735696,-0.0154818306,0.0271442942,0.0193408597,0.0193246119,-0.0351837836,-0.0550812781,-0.015603831,0.0302930754,-0.0691981167,0.0252912696,-0.0175435692,0.0507803187,-0.0507534631,-0.0354440026,-0.0424952693,0.0548741408,0.0250108428,-0.0125099616,-0.0047713746,0.0111644007,0.0062205098,-0.0040175393,0.0074876207,0.0088825542,-0.0147381844,-0.0194647089,0.0956752077,0.0319239162,-0.0249547474,-0.0136296088,-0.0278462116,-0.0178751554,-0.0599528067,-0.023357641,0.0001201345,0.0293040834,0.0338287354,0.009398859,-0.0134842293,-0.0408649594,-0.0402506553,0.035416007,0.0090738405,0.0241071694,-0.0209782105,-0.0537320711,-0.0212882925,0.0063515734,0.0362116843,0.0007601003,-0.0159568861,0.0062708706,-0.0302601419,0.0506452993,0.0135672763,0.0480322763,0.0739051998,-0.0180344358,-0.0635610595,0.009189575,0.0109139793,-0.0050571673,0.0067410381,0.0071967994,0.0259112474,0.0184592418,-0.0064061177,0.016394183,-0.0633250847,-0.0169226304,0.0694005266,0.0085273776,-0.0163930822,0.0387583114,-0.0286063589,-0.0657228902,-0.0273457393,-0.0004536369,0.0422279574,-0.0272751879,0.0293426365,0.063916333,-0.036693573,0.0253959522,0.0398304127,0.0403465405,0.0792820603,-0.0044533382,-0.0376598015,-0.0223368071,0.0215576962,-0.0088617224,0.0135908537,-0.0485935844,0.0307558198,0.0294705965,0.010923571,-0.0056308634,0.0023522985,0.0192488302,0.0250581652,-0.0481524877,-0.0661074817,-0.0062071574,-0.0090579772,0.0499393605,-0.0098121548,-0.007936202,-0.0659502372,0.0217412151,0.0188296307,-0.0182188042,-0.0597586147,-0.0669648126,-0.0249284413,0.0089747282,-0.0059422753,-0.0070364564,0.0456613898,0.0302128922,-0.0093487641,-0.0001253294,-0.0004711547,0.0244577397,0.0330859758,0.0336769409,0.0296948738,0.0247039143,0.0551422164,0.0234598741,0.0128094908,-0.0429430269,-0.0258157309,-0.0010080441,-0.0168257132,-0.0215986837,0.0215679035,0.0728211403,0.0749953017,-0.0430675335,-0.0240627639,0.0543441586,-0.005576069,-0.0079191886,0.0305751245,-0.0292986091,-0.0436743833,0.0231018029,-0.0304931905,-0.0073565161,-0.0630189404,0.0156173734,-0.0123046143,-0.0111889131,0.04437178,0.0830917433,-0.0393817499,-0.0318507291,0.05662008,0.0070625711,0.0403772667,-0.0171306077,0.0319682024,-0.0026316831,-0.0013960898,-0.0266891047,0.0224724058,0.0328403004,-0.0220495611,0.0140930703,-0.0214364473,-0.0225578826,0.0262592435,0.0214825533,0.0203815978,-0.0131504862,0.0161337331,0.0405649506,-0.0208040066,0.0269176289,0.0198432468,-0.0436858051,0.053595297,0.0530842394,0.0003093348,0.0149423582,-0.0120716766,-0.0366534889,-0.0374894291,-0.0107861692,-0.031681031,-0.0504305176,-0.0279959384,0.0192288663,0.034142565,0.0516069457,-0.0060421629,-0.057265278,-0.0032538583,0.0353869274,-0.0061868029,0.052308917,-0.0852901936,-0.0148034925,-0.0150668267,-0.014730501,-0.0217556227,0.0213929918,-0.0077467058,-0.0991196632,-0.0188931711,-0.0283206161,-0.0789358839,0.0010781157,0.0478997529,0.0142374607,0.0276073478,-0.038569469,0.0280515477,0.0678476095,0.0032791402,0.0689859465,-0.0157645661,-0.0398799144,-0.0014415649,-0.0118931476,-0.0952019915,-0.0314552896,-0.0067095486,0.028389398,0.026157273,0.0164239239,0.0590375811,-0.0816492811,0.0345102213,0.0509983338,0.0242510401,0.0209404845,0.0506527238,0.0286416933,-0.0632352382,-0.0327210091,0.020677451,-0.0231449232,0.0014323674,0.0190862734,0.015949361,0.0039508152,-0.045082476,0.0181744322,0.0373291224,0.0223719478,-0.0102799498,-0.0048172851,0.0125891399,-0.0056781447,-0.0244825073,0.0240087993,0.0415854156,-0.0273403954,0.0291192513,-0.0038244203,0.002987959,0.0351306461,0.0099157328,-0.0259390157,-0.0086908396,-0.0043764585,0.0236822944,0.0077117751,0.0109328069,0.0083327685,0.0888282433,0.0485090427,0.040320117,-0.0463769585,0.0174412355,-0.0230779741,-0.0209549405,-0.0545181744,0.0251960512,0.0139781106,-0.0371815152,0.0157899521,-0.0236058664]}\n"
     ]
    }
   ],
   "source": [
    "# save id and embedding as a json file\n",
    "jsonl_string = df[[\"id\", \"embedding\"]].to_json(orient=\"records\", lines=True)\n",
    "with open(\"questions.json\", \"w\") as f:\n",
    "    f.write(jsonl_string)\n",
    "\n",
    "# show the first few lines of the json file\n",
    "! head -n 3 questions.json"
   ]
  },
  {
   "cell_type": "markdown",
   "metadata": {
    "id": "-WTNJ3FAQl_W"
   },
   "source": [
    "Then, create a new Cloud Storage bucket and copy the file to it."
   ]
  },
  {
   "cell_type": "code",
   "execution_count": 16,
   "metadata": {
    "id": "CzwDWJfzAk3n",
    "tags": []
   },
   "outputs": [
    {
     "name": "stdout",
     "output_type": "stream",
     "text": [
      "Creating gs://qwiklabs-gcp-00-6650392fde9c-embvs-tutorial-03121325/...\n",
      "Copying file://questions.json [Content-Type=application/json]...\n",
      "/ [1 files][  9.8 MiB/  9.8 MiB]                                                \n",
      "Operation completed over 1 objects/9.8 MiB.                                      \n"
     ]
    }
   ],
   "source": [
    "BUCKET_URI = f\"gs://{PROJECT_ID}-embvs-tutorial-{UID}\"\n",
    "! gsutil mb -l $LOCATION -p {PROJECT_ID} {BUCKET_URI}\n",
    "! gsutil cp questions.json {BUCKET_URI}"
   ]
  },
  {
   "cell_type": "markdown",
   "metadata": {
    "id": "xxdbjKw1XDxl"
   },
   "source": [
    "### Create an Index\n",
    "\n",
    "Now it's ready to load the embeddings to Vector Search. Its APIs are available under the [aiplatform](https://cloud.google.com/python/docs/reference/aiplatform/latest/google.cloud.aiplatform) package of the SDK."
   ]
  },
  {
   "cell_type": "code",
   "execution_count": 17,
   "metadata": {
    "id": "8unyr9KagAoI",
    "tags": []
   },
   "outputs": [],
   "source": [
    "# init the aiplatform package\n",
    "from google.cloud import aiplatform\n",
    "\n",
    "aiplatform.init(project=PROJECT_ID, location=LOCATION)"
   ]
  },
  {
   "cell_type": "markdown",
   "metadata": {
    "id": "xpMUXqWQ75uu"
   },
   "source": [
    "Create an [MatchingEngineIndex](https://cloud.google.com/python/docs/reference/aiplatform/latest/google.cloud.aiplatform.MatchingEngineIndex) with its `create_tree_ah_index` function (Matching Engine is the previous name of Vector Search)."
   ]
  },
  {
   "cell_type": "code",
   "execution_count": 18,
   "metadata": {
    "id": "kKDw5VXMkXb3",
    "tags": []
   },
   "outputs": [
    {
     "name": "stdout",
     "output_type": "stream",
     "text": [
      "Creating MatchingEngineIndex\n",
      "Create MatchingEngineIndex backing LRO: projects/1085156338995/locations/us-central1/indexes/730731029773418496/operations/838498596817993728\n",
      "MatchingEngineIndex created. Resource name: projects/1085156338995/locations/us-central1/indexes/730731029773418496\n",
      "To use this MatchingEngineIndex in another session:\n",
      "index = aiplatform.MatchingEngineIndex('projects/1085156338995/locations/us-central1/indexes/730731029773418496')\n"
     ]
    }
   ],
   "source": [
    "# create index\n",
    "my_index = aiplatform.MatchingEngineIndex.create_tree_ah_index(\n",
    "    display_name=f\"embvs-tutorial-index-{UID}\",\n",
    "    contents_delta_uri=BUCKET_URI,\n",
    "    dimensions=768,\n",
    "    approximate_neighbors_count=20,\n",
    "    distance_measure_type=\"DOT_PRODUCT_DISTANCE\",\n",
    ")"
   ]
  },
  {
   "cell_type": "markdown",
   "metadata": {
    "id": "2rFam_w9U0dI"
   },
   "source": [
    "By calling the `create_tree_ah_index` function, it starts building an Index. This will take under a few minutes if the dataset is small, otherwise about 50 minutes or more depending on the size of the dataset. You can check status of the index creation on [the Vector Search Console > INDEXES tab](https://console.cloud.google.com/vertex-ai/matching-engine/indexes).\n",
    "\n",
    "![](https://storage.googleapis.com/github-repo/img/embeddings/vs-quickstart/creating-index.png)\n",
    "\n",
    "#### The parameters for creating index\n",
    "\n",
    "- `contents_delta_uri`: The URI of Cloud Storage directory where you stored the embedding JSON files\n",
    "- `dimensions`: Dimension size of each embedding. In this case, it is 768 as we are using the embeddings from the Text Embeddings API.\n",
    "- `approximate_neighbors_count`: how many similar items we want to retrieve in typical cases\n",
    "- `distance_measure_type`: what metrics to measure distance/similarity between embeddings. In this case it's `DOT_PRODUCT_DISTANCE`\n",
    "\n",
    "See [the document](https://cloud.google.com/vertex-ai/docs/vector-search/create-manage-index) for more details on creating Index and the parameters.\n",
    "\n",
    "#### Batch Update or Streaming Update?\n",
    "There are two types of index: Index for *Batch Update* (used in this tutorial) and Index for *Streaming Updates*. The Batch Update index can be updated with a batch process whereas the Streaming Update index can be updated in real-time. The latter one is more suited for use cases where you want to add or update each embeddings in the index more often, and crucial to serve with the latest embeddings, such as e-commerce product search.\n",
    "\n"
   ]
  },
  {
   "cell_type": "markdown",
   "metadata": {
    "id": "VLOAMF50XMI8"
   },
   "source": [
    "### Create Index Endpoint and deploy the Index\n",
    "\n",
    "To use the Index, you need to create an [Index Endpoint](https://cloud.google.com/vertex-ai/docs/vector-search/deploy-index-public). It works as a server instance accepting query requests for your Index."
   ]
  },
  {
   "cell_type": "code",
   "execution_count": 25,
   "metadata": {
    "id": "h6IzyufWCjU1",
    "tags": []
   },
   "outputs": [
    {
     "name": "stdout",
     "output_type": "stream",
     "text": [
      "Creating MatchingEngineIndexEndpoint\n",
      "Create MatchingEngineIndexEndpoint backing LRO: projects/1085156338995/locations/us-central1/indexEndpoints/5042874896422535168/operations/4210568817811652608\n",
      "MatchingEngineIndexEndpoint created. Resource name: projects/1085156338995/locations/us-central1/indexEndpoints/5042874896422535168\n",
      "To use this MatchingEngineIndexEndpoint in another session:\n",
      "index_endpoint = aiplatform.MatchingEngineIndexEndpoint('projects/1085156338995/locations/us-central1/indexEndpoints/5042874896422535168')\n"
     ]
    }
   ],
   "source": [
    "# create IndexEndpoint\n",
    "my_index_endpoint = aiplatform.MatchingEngineIndexEndpoint.create(\n",
    "    display_name=f\"embvs-tutorial-index-endpoint-{UID}\",\n",
    "    public_endpoint_enabled=True,\n",
    ")"
   ]
  },
  {
   "cell_type": "markdown",
   "metadata": {},
   "source": [
    "This tutorial utilizes a [Public Endpoint](https://cloud.google.com/vertex-ai/docs/vector-search/setup/setup#choose-endpoint) and does not support [Virtual Private Cloud (VPC)](https://cloud.google.com/vpc/docs/private-services-access). Unless you have a specific requirement for VPC, we recommend using a Public Endpoint. Despite the term \"public\" in its name, it does not imply open access to the public internet. Rather, it functions like other endpoints in Vertex AI services, which are secured by default through IAM. Without explicit IAM permissions, as we have previously established, no one can access the endpoint."
   ]
  },
  {
   "cell_type": "markdown",
   "metadata": {
    "id": "8n33iO1T5hFO"
   },
   "source": [
    "With the Index Endpoint, deploy the Index by specifying an unique deployed index ID."
   ]
  },
  {
   "cell_type": "code",
   "execution_count": 26,
   "metadata": {
    "id": "FcBHLifGwAWq",
    "tags": []
   },
   "outputs": [],
   "source": [
    "DEPLOYED_INDEX_ID = f\"embvs_tutorial_deployed_{UID}\""
   ]
  },
  {
   "cell_type": "code",
   "execution_count": 27,
   "metadata": {
    "id": "1jUoGhY5TPFP",
    "tags": []
   },
   "outputs": [
    {
     "name": "stdout",
     "output_type": "stream",
     "text": [
      "Deploying index MatchingEngineIndexEndpoint index_endpoint: projects/1085156338995/locations/us-central1/indexEndpoints/5042874896422535168\n"
     ]
    },
    {
     "ename": "AlreadyExists",
     "evalue": "409 There already exists a DeployedIndex with same ID \"embvs_tutorial_deployed_03121325\" deployed or being deployed at the following IndexEndpoint: projects/1085156338995/locations/us-central1/indexEndpoints/330983786286153728. Please use a different ID.",
     "output_type": "error",
     "traceback": [
      "\u001b[0;31m---------------------------------------------------------------------------\u001b[0m",
      "\u001b[0;31m_InactiveRpcError\u001b[0m                         Traceback (most recent call last)",
      "File \u001b[0;32m~/.local/lib/python3.10/site-packages/google/api_core/grpc_helpers.py:76\u001b[0m, in \u001b[0;36m_wrap_unary_errors.<locals>.error_remapped_callable\u001b[0;34m(*args, **kwargs)\u001b[0m\n\u001b[1;32m     75\u001b[0m \u001b[38;5;28;01mtry\u001b[39;00m:\n\u001b[0;32m---> 76\u001b[0m     \u001b[38;5;28;01mreturn\u001b[39;00m \u001b[43mcallable_\u001b[49m\u001b[43m(\u001b[49m\u001b[38;5;241;43m*\u001b[39;49m\u001b[43margs\u001b[49m\u001b[43m,\u001b[49m\u001b[43m \u001b[49m\u001b[38;5;241;43m*\u001b[39;49m\u001b[38;5;241;43m*\u001b[39;49m\u001b[43mkwargs\u001b[49m\u001b[43m)\u001b[49m\n\u001b[1;32m     77\u001b[0m \u001b[38;5;28;01mexcept\u001b[39;00m grpc\u001b[38;5;241m.\u001b[39mRpcError \u001b[38;5;28;01mas\u001b[39;00m exc:\n",
      "File \u001b[0;32m/opt/conda/lib/python3.10/site-packages/grpc/_channel.py:1176\u001b[0m, in \u001b[0;36m_UnaryUnaryMultiCallable.__call__\u001b[0;34m(self, request, timeout, metadata, credentials, wait_for_ready, compression)\u001b[0m\n\u001b[1;32m   1170\u001b[0m (\n\u001b[1;32m   1171\u001b[0m     state,\n\u001b[1;32m   1172\u001b[0m     call,\n\u001b[1;32m   1173\u001b[0m ) \u001b[38;5;241m=\u001b[39m \u001b[38;5;28mself\u001b[39m\u001b[38;5;241m.\u001b[39m_blocking(\n\u001b[1;32m   1174\u001b[0m     request, timeout, metadata, credentials, wait_for_ready, compression\n\u001b[1;32m   1175\u001b[0m )\n\u001b[0;32m-> 1176\u001b[0m \u001b[38;5;28;01mreturn\u001b[39;00m \u001b[43m_end_unary_response_blocking\u001b[49m\u001b[43m(\u001b[49m\u001b[43mstate\u001b[49m\u001b[43m,\u001b[49m\u001b[43m \u001b[49m\u001b[43mcall\u001b[49m\u001b[43m,\u001b[49m\u001b[43m \u001b[49m\u001b[38;5;28;43;01mFalse\u001b[39;49;00m\u001b[43m,\u001b[49m\u001b[43m \u001b[49m\u001b[38;5;28;43;01mNone\u001b[39;49;00m\u001b[43m)\u001b[49m\n",
      "File \u001b[0;32m/opt/conda/lib/python3.10/site-packages/grpc/_channel.py:1005\u001b[0m, in \u001b[0;36m_end_unary_response_blocking\u001b[0;34m(state, call, with_call, deadline)\u001b[0m\n\u001b[1;32m   1004\u001b[0m \u001b[38;5;28;01melse\u001b[39;00m:\n\u001b[0;32m-> 1005\u001b[0m     \u001b[38;5;28;01mraise\u001b[39;00m _InactiveRpcError(state)\n",
      "\u001b[0;31m_InactiveRpcError\u001b[0m: <_InactiveRpcError of RPC that terminated with:\n\tstatus = StatusCode.ALREADY_EXISTS\n\tdetails = \"There already exists a DeployedIndex with same ID \"embvs_tutorial_deployed_03121325\" deployed or being deployed at the following IndexEndpoint: projects/1085156338995/locations/us-central1/indexEndpoints/330983786286153728. Please use a different ID.\"\n\tdebug_error_string = \"UNKNOWN:Error received from peer ipv4:74.125.132.95:443 {grpc_message:\"There already exists a DeployedIndex with same ID \\\"embvs_tutorial_deployed_03121325\\\" deployed or being deployed at the following IndexEndpoint: projects/1085156338995/locations/us-central1/indexEndpoints/330983786286153728. Please use a different ID.\", grpc_status:6, created_time:\"2024-03-12T13:42:02.640532579+00:00\"}\"\n>",
      "\nThe above exception was the direct cause of the following exception:\n",
      "\u001b[0;31mAlreadyExists\u001b[0m                             Traceback (most recent call last)",
      "Cell \u001b[0;32mIn[27], line 2\u001b[0m\n\u001b[1;32m      1\u001b[0m \u001b[38;5;66;03m# deploy the Index to the Index Endpoint\u001b[39;00m\n\u001b[0;32m----> 2\u001b[0m \u001b[43mmy_index_endpoint\u001b[49m\u001b[38;5;241;43m.\u001b[39;49m\u001b[43mdeploy_index\u001b[49m\u001b[43m(\u001b[49m\u001b[43mindex\u001b[49m\u001b[38;5;241;43m=\u001b[39;49m\u001b[43mmy_index\u001b[49m\u001b[43m,\u001b[49m\u001b[43m \u001b[49m\u001b[43mdeployed_index_id\u001b[49m\u001b[38;5;241;43m=\u001b[39;49m\u001b[43mDEPLOYED_INDEX_ID\u001b[49m\u001b[43m)\u001b[49m\n",
      "File \u001b[0;32m/opt/conda/lib/python3.10/site-packages/google/cloud/aiplatform/matching_engine/matching_engine_index_endpoint.py:1075\u001b[0m, in \u001b[0;36mMatchingEngineIndexEndpoint.deploy_index\u001b[0;34m(self, index, deployed_index_id, display_name, machine_type, min_replica_count, max_replica_count, enable_access_logging, reserved_ip_ranges, deployment_group, auth_config_audiences, auth_config_allowed_issuers, request_metadata, deploy_request_timeout)\u001b[0m\n\u001b[1;32m   1055\u001b[0m _LOGGER\u001b[38;5;241m.\u001b[39mlog_action_start_against_resource(\n\u001b[1;32m   1056\u001b[0m     \u001b[38;5;124m\"\u001b[39m\u001b[38;5;124mDeploying index\u001b[39m\u001b[38;5;124m\"\u001b[39m,\n\u001b[1;32m   1057\u001b[0m     \u001b[38;5;124m\"\u001b[39m\u001b[38;5;124mindex_endpoint\u001b[39m\u001b[38;5;124m\"\u001b[39m,\n\u001b[1;32m   1058\u001b[0m     \u001b[38;5;28mself\u001b[39m,\n\u001b[1;32m   1059\u001b[0m )\n\u001b[1;32m   1061\u001b[0m deployed_index \u001b[38;5;241m=\u001b[39m \u001b[38;5;28mself\u001b[39m\u001b[38;5;241m.\u001b[39m_build_deployed_index(\n\u001b[1;32m   1062\u001b[0m     deployed_index_id\u001b[38;5;241m=\u001b[39mdeployed_index_id,\n\u001b[1;32m   1063\u001b[0m     index_resource_name\u001b[38;5;241m=\u001b[39mindex\u001b[38;5;241m.\u001b[39mresource_name,\n\u001b[0;32m   (...)\u001b[0m\n\u001b[1;32m   1072\u001b[0m     auth_config_allowed_issuers\u001b[38;5;241m=\u001b[39mauth_config_allowed_issuers,\n\u001b[1;32m   1073\u001b[0m )\n\u001b[0;32m-> 1075\u001b[0m deploy_lro \u001b[38;5;241m=\u001b[39m \u001b[38;5;28;43mself\u001b[39;49m\u001b[38;5;241;43m.\u001b[39;49m\u001b[43mapi_client\u001b[49m\u001b[38;5;241;43m.\u001b[39;49m\u001b[43mdeploy_index\u001b[49m\u001b[43m(\u001b[49m\n\u001b[1;32m   1076\u001b[0m \u001b[43m    \u001b[49m\u001b[43mindex_endpoint\u001b[49m\u001b[38;5;241;43m=\u001b[39;49m\u001b[38;5;28;43mself\u001b[39;49m\u001b[38;5;241;43m.\u001b[39;49m\u001b[43mresource_name\u001b[49m\u001b[43m,\u001b[49m\n\u001b[1;32m   1077\u001b[0m \u001b[43m    \u001b[49m\u001b[43mdeployed_index\u001b[49m\u001b[38;5;241;43m=\u001b[39;49m\u001b[43mdeployed_index\u001b[49m\u001b[43m,\u001b[49m\n\u001b[1;32m   1078\u001b[0m \u001b[43m    \u001b[49m\u001b[43mmetadata\u001b[49m\u001b[38;5;241;43m=\u001b[39;49m\u001b[43mrequest_metadata\u001b[49m\u001b[43m,\u001b[49m\n\u001b[1;32m   1079\u001b[0m \u001b[43m    \u001b[49m\u001b[43mtimeout\u001b[49m\u001b[38;5;241;43m=\u001b[39;49m\u001b[43mdeploy_request_timeout\u001b[49m\u001b[43m,\u001b[49m\n\u001b[1;32m   1080\u001b[0m \u001b[43m\u001b[49m\u001b[43m)\u001b[49m\n\u001b[1;32m   1082\u001b[0m _LOGGER\u001b[38;5;241m.\u001b[39mlog_action_started_against_resource_with_lro(\n\u001b[1;32m   1083\u001b[0m     \u001b[38;5;124m\"\u001b[39m\u001b[38;5;124mDeploy index\u001b[39m\u001b[38;5;124m\"\u001b[39m, \u001b[38;5;124m\"\u001b[39m\u001b[38;5;124mindex_endpoint\u001b[39m\u001b[38;5;124m\"\u001b[39m, \u001b[38;5;28mself\u001b[39m\u001b[38;5;241m.\u001b[39m\u001b[38;5;18m__class__\u001b[39m, deploy_lro\n\u001b[1;32m   1084\u001b[0m )\n\u001b[1;32m   1086\u001b[0m deploy_lro\u001b[38;5;241m.\u001b[39mresult(timeout\u001b[38;5;241m=\u001b[39m\u001b[38;5;28;01mNone\u001b[39;00m)\n",
      "File \u001b[0;32m/opt/conda/lib/python3.10/site-packages/google/cloud/aiplatform_v1/services/index_endpoint_service/client.py:1448\u001b[0m, in \u001b[0;36mIndexEndpointServiceClient.deploy_index\u001b[0;34m(self, request, index_endpoint, deployed_index, retry, timeout, metadata)\u001b[0m\n\u001b[1;32m   1445\u001b[0m \u001b[38;5;28mself\u001b[39m\u001b[38;5;241m.\u001b[39m_validate_universe_domain()\n\u001b[1;32m   1447\u001b[0m \u001b[38;5;66;03m# Send the request.\u001b[39;00m\n\u001b[0;32m-> 1448\u001b[0m response \u001b[38;5;241m=\u001b[39m \u001b[43mrpc\u001b[49m\u001b[43m(\u001b[49m\n\u001b[1;32m   1449\u001b[0m \u001b[43m    \u001b[49m\u001b[43mrequest\u001b[49m\u001b[43m,\u001b[49m\n\u001b[1;32m   1450\u001b[0m \u001b[43m    \u001b[49m\u001b[43mretry\u001b[49m\u001b[38;5;241;43m=\u001b[39;49m\u001b[43mretry\u001b[49m\u001b[43m,\u001b[49m\n\u001b[1;32m   1451\u001b[0m \u001b[43m    \u001b[49m\u001b[43mtimeout\u001b[49m\u001b[38;5;241;43m=\u001b[39;49m\u001b[43mtimeout\u001b[49m\u001b[43m,\u001b[49m\n\u001b[1;32m   1452\u001b[0m \u001b[43m    \u001b[49m\u001b[43mmetadata\u001b[49m\u001b[38;5;241;43m=\u001b[39;49m\u001b[43mmetadata\u001b[49m\u001b[43m,\u001b[49m\n\u001b[1;32m   1453\u001b[0m \u001b[43m\u001b[49m\u001b[43m)\u001b[49m\n\u001b[1;32m   1455\u001b[0m \u001b[38;5;66;03m# Wrap the response in an operation future.\u001b[39;00m\n\u001b[1;32m   1456\u001b[0m response \u001b[38;5;241m=\u001b[39m gac_operation\u001b[38;5;241m.\u001b[39mfrom_gapic(\n\u001b[1;32m   1457\u001b[0m     response,\n\u001b[1;32m   1458\u001b[0m     \u001b[38;5;28mself\u001b[39m\u001b[38;5;241m.\u001b[39m_transport\u001b[38;5;241m.\u001b[39moperations_client,\n\u001b[1;32m   1459\u001b[0m     index_endpoint_service\u001b[38;5;241m.\u001b[39mDeployIndexResponse,\n\u001b[1;32m   1460\u001b[0m     metadata_type\u001b[38;5;241m=\u001b[39mindex_endpoint_service\u001b[38;5;241m.\u001b[39mDeployIndexOperationMetadata,\n\u001b[1;32m   1461\u001b[0m )\n",
      "File \u001b[0;32m~/.local/lib/python3.10/site-packages/google/api_core/gapic_v1/method.py:131\u001b[0m, in \u001b[0;36m_GapicCallable.__call__\u001b[0;34m(self, timeout, retry, compression, *args, **kwargs)\u001b[0m\n\u001b[1;32m    128\u001b[0m \u001b[38;5;28;01mif\u001b[39;00m \u001b[38;5;28mself\u001b[39m\u001b[38;5;241m.\u001b[39m_compression \u001b[38;5;129;01mis\u001b[39;00m \u001b[38;5;129;01mnot\u001b[39;00m \u001b[38;5;28;01mNone\u001b[39;00m:\n\u001b[1;32m    129\u001b[0m     kwargs[\u001b[38;5;124m\"\u001b[39m\u001b[38;5;124mcompression\u001b[39m\u001b[38;5;124m\"\u001b[39m] \u001b[38;5;241m=\u001b[39m compression\n\u001b[0;32m--> 131\u001b[0m \u001b[38;5;28;01mreturn\u001b[39;00m \u001b[43mwrapped_func\u001b[49m\u001b[43m(\u001b[49m\u001b[38;5;241;43m*\u001b[39;49m\u001b[43margs\u001b[49m\u001b[43m,\u001b[49m\u001b[43m \u001b[49m\u001b[38;5;241;43m*\u001b[39;49m\u001b[38;5;241;43m*\u001b[39;49m\u001b[43mkwargs\u001b[49m\u001b[43m)\u001b[49m\n",
      "File \u001b[0;32m~/.local/lib/python3.10/site-packages/google/api_core/grpc_helpers.py:78\u001b[0m, in \u001b[0;36m_wrap_unary_errors.<locals>.error_remapped_callable\u001b[0;34m(*args, **kwargs)\u001b[0m\n\u001b[1;32m     76\u001b[0m     \u001b[38;5;28;01mreturn\u001b[39;00m callable_(\u001b[38;5;241m*\u001b[39margs, \u001b[38;5;241m*\u001b[39m\u001b[38;5;241m*\u001b[39mkwargs)\n\u001b[1;32m     77\u001b[0m \u001b[38;5;28;01mexcept\u001b[39;00m grpc\u001b[38;5;241m.\u001b[39mRpcError \u001b[38;5;28;01mas\u001b[39;00m exc:\n\u001b[0;32m---> 78\u001b[0m     \u001b[38;5;28;01mraise\u001b[39;00m exceptions\u001b[38;5;241m.\u001b[39mfrom_grpc_error(exc) \u001b[38;5;28;01mfrom\u001b[39;00m \u001b[38;5;21;01mexc\u001b[39;00m\n",
      "\u001b[0;31mAlreadyExists\u001b[0m: 409 There already exists a DeployedIndex with same ID \"embvs_tutorial_deployed_03121325\" deployed or being deployed at the following IndexEndpoint: projects/1085156338995/locations/us-central1/indexEndpoints/330983786286153728. Please use a different ID."
     ]
    }
   ],
   "source": [
    "# deploy the Index to the Index Endpoint\n",
    "my_index_endpoint.deploy_index(index=my_index, deployed_index_id=DEPLOYED_INDEX_ID)"
   ]
  },
  {
   "cell_type": "markdown",
   "metadata": {
    "id": "xu9ZmWcpXQ55"
   },
   "source": [
    "If it is the first time to deploy an Index to an Index Endpoint, it will take around 25 minutes to automatically build and initiate the backend for it. After the first deployment, it will finish in seconds. To see the status of the index deployment, open [the Vector Search Console > INDEX ENDPOINTS tab](https://console.cloud.google.com/vertex-ai/matching-engine/index-endpoints) and click the Index Endpoint.\n",
    "\n",
    "<img src=\"https://storage.googleapis.com/github-repo/img/embeddings/vs-quickstart/deploying-index.png\" width=\"70%\">"
   ]
  },
  {
   "cell_type": "markdown",
   "metadata": {
    "id": "oTi4PjjbXV-O"
   },
   "source": [
    "### Run Query\n",
    "\n",
    "Finally it's ready to use Vector Search. In the following code, it creates an embedding for a test question, and find similar question with the Vector Search."
   ]
  },
  {
   "cell_type": "code",
   "execution_count": 28,
   "metadata": {
    "id": "FhNuRQqUWdfe",
    "tags": []
   },
   "outputs": [
    {
     "name": "stderr",
     "output_type": "stream",
     "text": [
      "100%|██████████| 1/1 [00:01<00:00,  1.09s/it]\n"
     ]
    }
   ],
   "source": [
    "test_embeddings = get_embeddings_wrapper([\"How to read JSON with Python?\"])"
   ]
  },
  {
   "cell_type": "code",
   "execution_count": 29,
   "metadata": {
    "id": "Q01DGMBPXAg-",
    "tags": []
   },
   "outputs": [
    {
     "ename": "ServiceUnavailable",
     "evalue": "503 DNS resolution failed for 65545912.us-central1-1085156338995.vdb.vertexai.goog:443: C-ares status is not ARES_SUCCESS qtype=A name=65545912.us-central1-1085156338995.vdb.vertexai.goog is_balancer=0: Domain name not found",
     "output_type": "error",
     "traceback": [
      "\u001b[0;31m---------------------------------------------------------------------------\u001b[0m",
      "\u001b[0;31m_InactiveRpcError\u001b[0m                         Traceback (most recent call last)",
      "File \u001b[0;32m~/.local/lib/python3.10/site-packages/google/api_core/grpc_helpers.py:76\u001b[0m, in \u001b[0;36m_wrap_unary_errors.<locals>.error_remapped_callable\u001b[0;34m(*args, **kwargs)\u001b[0m\n\u001b[1;32m     75\u001b[0m \u001b[38;5;28;01mtry\u001b[39;00m:\n\u001b[0;32m---> 76\u001b[0m     \u001b[38;5;28;01mreturn\u001b[39;00m \u001b[43mcallable_\u001b[49m\u001b[43m(\u001b[49m\u001b[38;5;241;43m*\u001b[39;49m\u001b[43margs\u001b[49m\u001b[43m,\u001b[49m\u001b[43m \u001b[49m\u001b[38;5;241;43m*\u001b[39;49m\u001b[38;5;241;43m*\u001b[39;49m\u001b[43mkwargs\u001b[49m\u001b[43m)\u001b[49m\n\u001b[1;32m     77\u001b[0m \u001b[38;5;28;01mexcept\u001b[39;00m grpc\u001b[38;5;241m.\u001b[39mRpcError \u001b[38;5;28;01mas\u001b[39;00m exc:\n",
      "File \u001b[0;32m/opt/conda/lib/python3.10/site-packages/grpc/_channel.py:1176\u001b[0m, in \u001b[0;36m_UnaryUnaryMultiCallable.__call__\u001b[0;34m(self, request, timeout, metadata, credentials, wait_for_ready, compression)\u001b[0m\n\u001b[1;32m   1170\u001b[0m (\n\u001b[1;32m   1171\u001b[0m     state,\n\u001b[1;32m   1172\u001b[0m     call,\n\u001b[1;32m   1173\u001b[0m ) \u001b[38;5;241m=\u001b[39m \u001b[38;5;28mself\u001b[39m\u001b[38;5;241m.\u001b[39m_blocking(\n\u001b[1;32m   1174\u001b[0m     request, timeout, metadata, credentials, wait_for_ready, compression\n\u001b[1;32m   1175\u001b[0m )\n\u001b[0;32m-> 1176\u001b[0m \u001b[38;5;28;01mreturn\u001b[39;00m \u001b[43m_end_unary_response_blocking\u001b[49m\u001b[43m(\u001b[49m\u001b[43mstate\u001b[49m\u001b[43m,\u001b[49m\u001b[43m \u001b[49m\u001b[43mcall\u001b[49m\u001b[43m,\u001b[49m\u001b[43m \u001b[49m\u001b[38;5;28;43;01mFalse\u001b[39;49;00m\u001b[43m,\u001b[49m\u001b[43m \u001b[49m\u001b[38;5;28;43;01mNone\u001b[39;49;00m\u001b[43m)\u001b[49m\n",
      "File \u001b[0;32m/opt/conda/lib/python3.10/site-packages/grpc/_channel.py:1005\u001b[0m, in \u001b[0;36m_end_unary_response_blocking\u001b[0;34m(state, call, with_call, deadline)\u001b[0m\n\u001b[1;32m   1004\u001b[0m \u001b[38;5;28;01melse\u001b[39;00m:\n\u001b[0;32m-> 1005\u001b[0m     \u001b[38;5;28;01mraise\u001b[39;00m _InactiveRpcError(state)\n",
      "\u001b[0;31m_InactiveRpcError\u001b[0m: <_InactiveRpcError of RPC that terminated with:\n\tstatus = StatusCode.UNAVAILABLE\n\tdetails = \"DNS resolution failed for 65545912.us-central1-1085156338995.vdb.vertexai.goog:443: C-ares status is not ARES_SUCCESS qtype=A name=65545912.us-central1-1085156338995.vdb.vertexai.goog is_balancer=0: Domain name not found\"\n\tdebug_error_string = \"UNKNOWN:Error received from peer  {grpc_message:\"DNS resolution failed for 65545912.us-central1-1085156338995.vdb.vertexai.goog:443: C-ares status is not ARES_SUCCESS qtype=A name=65545912.us-central1-1085156338995.vdb.vertexai.goog is_balancer=0: Domain name not found\", grpc_status:14, created_time:\"2024-03-12T13:42:38.546121333+00:00\"}\"\n>",
      "\nThe above exception was the direct cause of the following exception:\n",
      "\u001b[0;31mServiceUnavailable\u001b[0m                        Traceback (most recent call last)",
      "Cell \u001b[0;32mIn[29], line 2\u001b[0m\n\u001b[1;32m      1\u001b[0m \u001b[38;5;66;03m# Test query\u001b[39;00m\n\u001b[0;32m----> 2\u001b[0m response \u001b[38;5;241m=\u001b[39m \u001b[43mmy_index_endpoint\u001b[49m\u001b[38;5;241;43m.\u001b[39;49m\u001b[43mfind_neighbors\u001b[49m\u001b[43m(\u001b[49m\n\u001b[1;32m      3\u001b[0m \u001b[43m    \u001b[49m\u001b[43mdeployed_index_id\u001b[49m\u001b[38;5;241;43m=\u001b[39;49m\u001b[43mDEPLOYED_INDEX_ID\u001b[49m\u001b[43m,\u001b[49m\n\u001b[1;32m      4\u001b[0m \u001b[43m    \u001b[49m\u001b[43mqueries\u001b[49m\u001b[38;5;241;43m=\u001b[39;49m\u001b[43mtest_embeddings\u001b[49m\u001b[43m,\u001b[49m\n\u001b[1;32m      5\u001b[0m \u001b[43m    \u001b[49m\u001b[43mnum_neighbors\u001b[49m\u001b[38;5;241;43m=\u001b[39;49m\u001b[38;5;241;43m20\u001b[39;49m\u001b[43m,\u001b[49m\n\u001b[1;32m      6\u001b[0m \u001b[43m)\u001b[49m\n\u001b[1;32m      8\u001b[0m \u001b[38;5;66;03m# show the result\u001b[39;00m\n\u001b[1;32m      9\u001b[0m \u001b[38;5;28;01mimport\u001b[39;00m \u001b[38;5;21;01mnumpy\u001b[39;00m \u001b[38;5;28;01mas\u001b[39;00m \u001b[38;5;21;01mnp\u001b[39;00m\n",
      "File \u001b[0;32m/opt/conda/lib/python3.10/site-packages/google/cloud/aiplatform/matching_engine/matching_engine_index_endpoint.py:1463\u001b[0m, in \u001b[0;36mMatchingEngineIndexEndpoint.find_neighbors\u001b[0;34m(self, deployed_index_id, queries, num_neighbors, filter, per_crowding_attribute_neighbor_count, approx_num_neighbors, fraction_leaf_nodes_to_search_override, return_full_datapoint, numeric_filter, embedding_ids)\u001b[0m\n\u001b[1;32m   1457\u001b[0m \u001b[38;5;28;01melse\u001b[39;00m:\n\u001b[1;32m   1458\u001b[0m     \u001b[38;5;28;01mraise\u001b[39;00m \u001b[38;5;167;01mValueError\u001b[39;00m(\n\u001b[1;32m   1459\u001b[0m         \u001b[38;5;124m\"\u001b[39m\u001b[38;5;124mTo find neighbors using matching engine,\u001b[39m\u001b[38;5;124m\"\u001b[39m\n\u001b[1;32m   1460\u001b[0m         \u001b[38;5;124m\"\u001b[39m\u001b[38;5;124mplease specify `queries` or `embedding_ids`\u001b[39m\u001b[38;5;124m\"\u001b[39m\n\u001b[1;32m   1461\u001b[0m     )\n\u001b[0;32m-> 1463\u001b[0m response \u001b[38;5;241m=\u001b[39m \u001b[38;5;28;43mself\u001b[39;49m\u001b[38;5;241;43m.\u001b[39;49m\u001b[43m_public_match_client\u001b[49m\u001b[38;5;241;43m.\u001b[39;49m\u001b[43mfind_neighbors\u001b[49m\u001b[43m(\u001b[49m\u001b[43mfind_neighbors_request\u001b[49m\u001b[43m)\u001b[49m\n\u001b[1;32m   1465\u001b[0m \u001b[38;5;66;03m# Wrap the results in MatchNeighbor objects and return\u001b[39;00m\n\u001b[1;32m   1466\u001b[0m \u001b[38;5;28;01mreturn\u001b[39;00m [\n\u001b[1;32m   1467\u001b[0m     [\n\u001b[1;32m   1468\u001b[0m         MatchNeighbor(\n\u001b[0;32m   (...)\u001b[0m\n\u001b[1;32m   1473\u001b[0m     \u001b[38;5;28;01mfor\u001b[39;00m embedding_neighbors \u001b[38;5;129;01min\u001b[39;00m response\u001b[38;5;241m.\u001b[39mnearest_neighbors\n\u001b[1;32m   1474\u001b[0m ]\n",
      "File \u001b[0;32m/opt/conda/lib/python3.10/site-packages/google/cloud/aiplatform_v1beta1/services/match_service/client.py:748\u001b[0m, in \u001b[0;36mMatchServiceClient.find_neighbors\u001b[0;34m(self, request, retry, timeout, metadata)\u001b[0m\n\u001b[1;32m    745\u001b[0m \u001b[38;5;28mself\u001b[39m\u001b[38;5;241m.\u001b[39m_validate_universe_domain()\n\u001b[1;32m    747\u001b[0m \u001b[38;5;66;03m# Send the request.\u001b[39;00m\n\u001b[0;32m--> 748\u001b[0m response \u001b[38;5;241m=\u001b[39m \u001b[43mrpc\u001b[49m\u001b[43m(\u001b[49m\n\u001b[1;32m    749\u001b[0m \u001b[43m    \u001b[49m\u001b[43mrequest\u001b[49m\u001b[43m,\u001b[49m\n\u001b[1;32m    750\u001b[0m \u001b[43m    \u001b[49m\u001b[43mretry\u001b[49m\u001b[38;5;241;43m=\u001b[39;49m\u001b[43mretry\u001b[49m\u001b[43m,\u001b[49m\n\u001b[1;32m    751\u001b[0m \u001b[43m    \u001b[49m\u001b[43mtimeout\u001b[49m\u001b[38;5;241;43m=\u001b[39;49m\u001b[43mtimeout\u001b[49m\u001b[43m,\u001b[49m\n\u001b[1;32m    752\u001b[0m \u001b[43m    \u001b[49m\u001b[43mmetadata\u001b[49m\u001b[38;5;241;43m=\u001b[39;49m\u001b[43mmetadata\u001b[49m\u001b[43m,\u001b[49m\n\u001b[1;32m    753\u001b[0m \u001b[43m\u001b[49m\u001b[43m)\u001b[49m\n\u001b[1;32m    755\u001b[0m \u001b[38;5;66;03m# Done; return the response.\u001b[39;00m\n\u001b[1;32m    756\u001b[0m \u001b[38;5;28;01mreturn\u001b[39;00m response\n",
      "File \u001b[0;32m~/.local/lib/python3.10/site-packages/google/api_core/gapic_v1/method.py:131\u001b[0m, in \u001b[0;36m_GapicCallable.__call__\u001b[0;34m(self, timeout, retry, compression, *args, **kwargs)\u001b[0m\n\u001b[1;32m    128\u001b[0m \u001b[38;5;28;01mif\u001b[39;00m \u001b[38;5;28mself\u001b[39m\u001b[38;5;241m.\u001b[39m_compression \u001b[38;5;129;01mis\u001b[39;00m \u001b[38;5;129;01mnot\u001b[39;00m \u001b[38;5;28;01mNone\u001b[39;00m:\n\u001b[1;32m    129\u001b[0m     kwargs[\u001b[38;5;124m\"\u001b[39m\u001b[38;5;124mcompression\u001b[39m\u001b[38;5;124m\"\u001b[39m] \u001b[38;5;241m=\u001b[39m compression\n\u001b[0;32m--> 131\u001b[0m \u001b[38;5;28;01mreturn\u001b[39;00m \u001b[43mwrapped_func\u001b[49m\u001b[43m(\u001b[49m\u001b[38;5;241;43m*\u001b[39;49m\u001b[43margs\u001b[49m\u001b[43m,\u001b[49m\u001b[43m \u001b[49m\u001b[38;5;241;43m*\u001b[39;49m\u001b[38;5;241;43m*\u001b[39;49m\u001b[43mkwargs\u001b[49m\u001b[43m)\u001b[49m\n",
      "File \u001b[0;32m~/.local/lib/python3.10/site-packages/google/api_core/grpc_helpers.py:78\u001b[0m, in \u001b[0;36m_wrap_unary_errors.<locals>.error_remapped_callable\u001b[0;34m(*args, **kwargs)\u001b[0m\n\u001b[1;32m     76\u001b[0m     \u001b[38;5;28;01mreturn\u001b[39;00m callable_(\u001b[38;5;241m*\u001b[39margs, \u001b[38;5;241m*\u001b[39m\u001b[38;5;241m*\u001b[39mkwargs)\n\u001b[1;32m     77\u001b[0m \u001b[38;5;28;01mexcept\u001b[39;00m grpc\u001b[38;5;241m.\u001b[39mRpcError \u001b[38;5;28;01mas\u001b[39;00m exc:\n\u001b[0;32m---> 78\u001b[0m     \u001b[38;5;28;01mraise\u001b[39;00m exceptions\u001b[38;5;241m.\u001b[39mfrom_grpc_error(exc) \u001b[38;5;28;01mfrom\u001b[39;00m \u001b[38;5;21;01mexc\u001b[39;00m\n",
      "\u001b[0;31mServiceUnavailable\u001b[0m: 503 DNS resolution failed for 65545912.us-central1-1085156338995.vdb.vertexai.goog:443: C-ares status is not ARES_SUCCESS qtype=A name=65545912.us-central1-1085156338995.vdb.vertexai.goog is_balancer=0: Domain name not found"
     ]
    }
   ],
   "source": [
    "# Test query\n",
    "response = my_index_endpoint.find_neighbors(\n",
    "    deployed_index_id=DEPLOYED_INDEX_ID,\n",
    "    queries=test_embeddings,\n",
    "    num_neighbors=20,\n",
    ")\n",
    "\n",
    "# show the result\n",
    "import numpy as np\n",
    "\n",
    "for idx, neighbor in enumerate(response[0]):\n",
    "    id = np.int64(neighbor.id)\n",
    "    similar = df.query(\"id == @id\", engine=\"python\")\n",
    "    print(f\"{neighbor.distance:.4f} {similar.title.values[0]}\")"
   ]
  },
  {
   "cell_type": "markdown",
   "metadata": {
    "id": "tPDOL9caoYZ9"
   },
   "source": [
    "The `find_neighbors` function only takes milliseconds to fetch the similar items even when you have billions of items on the Index, thanks to the ScaNN algorithm. Vector Search also supports [autoscaling](https://cloud.google.com/vertex-ai/docs/vector-search/deploy-index-public#autoscaling) which can automatically resize the number of nodes based on the demands of your workloads."
   ]
  },
  {
   "cell_type": "markdown",
   "metadata": {
    "id": "DDt4D6FDyc66"
   },
   "source": [
    "# IMPORTANT: Cleaning Up\n",
    "\n",
    "In case you are using your own Cloud project, not a temporary project on Qwiklab, please make sure to delete all the Indexes, Index Endpoints and Cloud Storage buckets after finishing this tutorial. Otherwise the remaining objects would **incur unexpected costs**.\n",
    "\n",
    "If you used Workbench, you may also need to delete the Notebooks from [the console](https://console.cloud.google.com/vertex-ai/workbench)."
   ]
  },
  {
   "cell_type": "code",
   "execution_count": null,
   "metadata": {
    "id": "MEsKVzguyxNx",
    "tags": []
   },
   "outputs": [],
   "source": [
    "# wait for a confirmation\n",
    "input(\"Press Enter to delete Index Endpoint, Index and Cloud Storage bucket:\")\n",
    "\n",
    "# delete Index Endpoint\n",
    "my_index_endpoint.undeploy_all()\n",
    "my_index_endpoint.delete(force=True)\n",
    "\n",
    "# delete Index\n",
    "my_index.delete()\n",
    "\n",
    "# delete Cloud Storage bucket\n",
    "! gsutil rm -r {BUCKET_URI}"
   ]
  },
  {
   "cell_type": "markdown",
   "metadata": {
    "id": "b8k26QOF3Ys7"
   },
   "source": [
    "# Summary\n",
    "\n",
    "## Grounding LLM outputs with Vertex AI Vector Search\n",
    "\n",
    "As we have seen, by combining the Embeddings API and Vector Search, you can use the embeddings to \"ground\" LLM outputs to real business data with low latency.\n",
    "\n",
    "For example, if an user asks a question, Embeddings API can convert it to an embedding, and issue an query on Vector Search to find similar embeddings in its index. Those embeddings represent the actual business data in the databases. As we are just retrieving the business data and not generating any artificial texts, there is no risk of having hallucinations in the result.\n",
    "\n",
    "![](https://storage.googleapis.com/gweb-cloudblog-publish/original_images/10._grounding.png)\n",
    "\n",
    "### The difference between the questions and answers\n",
    "\n",
    "In this tutorial, we have used the Stack Overflow dataset. There is a reason why we had to use it; As the dataset has many pairs of **questions and answers**, so you can just find quesions similar to your question to find answers to it.\n",
    "\n",
    "In many business use cases, the semantics (meaning) of questions and answers are different. Also, there could be cases where you would want to add variety of recommended or personalized items to the results, like product search on e-commerce sites.\n",
    "\n",
    "In these cases, the simple semantics search don't work well. It's more like a recommendation system problem where you may want to train a model (e.g. Two-Tower model) to learn the relationship between the question embedding space and answer embedding space. Also, many production systems adds reranking phase after the semantic search to achieve higher search quality. Please see [Scaling deep retrieval with TensorFlow Recommenders and Vertex AI Matching Engine](https://cloud.google.com/blog/products/ai-machine-learning/scaling-deep-retrieval-tensorflow-two-towers-architecture) to learn more.\n",
    "\n",
    "### Hybrid of semantic + keyword search\n",
    "\n",
    "Another typical challenge you will face in production system is to support keyword search combined with the semantic search. For example, for e-commerce product search, you may want to let users find product by entering its product name or model number. As LLM doesn't memorize those product names or model numbers, semantic search can't handle those \"usual\" search functionalities.\n",
    "\n",
    "[Vertex AI Search](https://cloud.google.com/blog/products/ai-machine-learning/vertex-ai-search-and-conversation-is-now-generally-available) is another product you may consider for those requirements. While Vector Search provides a simple semantic search capability only, Search provides a integrated search solution that combines semantic search, keyword search, reranking and filtering, available as an out-of-the-box tool.\n",
    "\n",
    "### What about Retrieval Augmented Generation (RAG)?\n",
    "\n",
    "In this tutorial, we have looked at the simple combination of LLM embeddings and vector search. From this starting point, you may also extend the design to [Retrieval Augmented Generation (RAG)](https://www.google.com/search?q=Retrieval+Augmented+Generation+(RAG)&oq=Retrieval+Augmented+Generation+(RAG)).\n",
    "\n",
    "RAG is a popular architecture pattern of implementing grounding with LLM with text chat UI. The idea is to have the LLM text chat UI as a frontend for the document retrieval with vector search and summarization of the result.\n",
    "\n",
    "![](https://storage.googleapis.com/gweb-cloudblog-publish/images/Figure-7-Ask_Your_Documents_Flow.max-529x434.png)\n",
    "\n",
    "There are some pros and cons between the two solutions.\n",
    "\n",
    "| | Emb + vector search | RAG |\n",
    "|---|---|---|\n",
    "| Design | simple | complex |\n",
    "| UI | Text search UI | Text chat UI |\n",
    "| Summarization of result | No | Yes |\n",
    "| Multi-turn (Context aware) | No | Yes |\n",
    "| Latency | millisecs | seconds |\n",
    "| Cost | lower | higher |\n",
    "| Hallucinations | No risk | Some risk |\n",
    "\n",
    "The Embedding + vector search pattern we have looked at with this tutorial provides simple, fast and low cost semantic search functionality with the LLM intelligence. RAG adds context-aware text chat experience and result summarization to it. While RAG provides the more \"Gen AI-ish\" experience, it also adds a risk of hallucination and higher cost and time for the text generation.\n",
    "\n",
    "To learn more about how to build a RAG solution, you may look at [Building Generative AI applications made easy with Vertex AI PaLM API and LangChain](https://cloud.google.com/blog/products/ai-machine-learning/generative-ai-applications-with-vertex-ai-palm-2-models-and-langchain).\n",
    "\n",
    "## Resources\n",
    "\n",
    "To learn more, please check out the following resources:\n",
    "\n",
    "### Documentations\n",
    "\n",
    "[Vertex AI Embeddings for Text API documentation\n",
    "](https://cloud.google.com/vertex-ai/docs/generative-ai/embeddings/get-text-embeddings)\n",
    "\n",
    "[Vector Search documentation](https://cloud.google.com/vertex-ai/docs/matching-engine/overview)\n",
    "\n",
    "### Vector Search blog posts\n",
    "\n",
    "[Vertex Matching Engine: Blazing fast and massively scalable nearest neighbor search](https://cloud.google.com/blog/products/ai-machine-learning/vertex-matching-engine-blazing-fast-and-massively-scalable-nearest-neighbor-search)\n",
    "\n",
    "[Find anything blazingly fast with Google's vector search technology](https://cloud.google.com/blog/topics/developers-practitioners/find-anything-blazingly-fast-googles-vector-search-technology)\n",
    "\n",
    "[Enabling real-time AI with Streaming Ingestion in Vertex AI](https://cloud.google.com/blog/products/ai-machine-learning/real-time-ai-with-google-cloud-vertex-ai)\n",
    "\n",
    "[Mercari leverages Google's vector search technology to create a new marketplace](https://cloud.google.com/blog/topics/developers-practitioners/mercari-leverages-googles-vector-search-technology-create-new-marketplace)\n",
    "\n",
    "[Recommending news articles using Vertex AI Matching Engine](https://cloud.google.com/blog/products/ai-machine-learning/recommending-articles-using-vertex-ai-matching-engine)\n",
    "\n",
    "[What is Multimodal Search: \"LLMs with vision\" change businesses](https://cloud.google.com/blog/products/ai-machine-learning/multimodal-generative-ai-search)"
   ]
  },
  {
   "cell_type": "markdown",
   "metadata": {
    "id": "BE1tELsH-u8N"
   },
   "source": [
    "# Utilities\n",
    "\n",
    "Sometimes it takes tens of minutes to create or deploy Indexes and you would lose connection with the Colab runtime. In that case, instead of creating or deploying new Index again, you can check [the Vector Search Console](https://console.cloud.google.com/vertex-ai/matching-engine/index-endpoints) and get the existing ones to continue."
   ]
  },
  {
   "cell_type": "markdown",
   "metadata": {
    "id": "wF_pkdpJ-yaq"
   },
   "source": [
    "## Get an existing Index\n",
    "\n",
    "To get an Index object that already exists, replace the following `[your-index-id]` with the index ID and run the cell. You can check the ID on [the Vector Search Console > INDEXES tab](https://console.cloud.google.com/vertex-ai/matching-engine/indexes)."
   ]
  },
  {
   "cell_type": "code",
   "execution_count": null,
   "metadata": {
    "id": "mEBkZZt_-0jG"
   },
   "outputs": [],
   "source": [
    "my_index_id = \"[your-index-id]\"  # @param {type:\"string\"}\n",
    "my_index = aiplatform.MatchingEngineIndex(my_index_id)"
   ]
  },
  {
   "cell_type": "markdown",
   "metadata": {
    "id": "_vlgzkyw-3CI"
   },
   "source": [
    "## Get an existing Index Endpoint\n",
    "\n",
    "To get an Index Endpoint object that already exists, replace the following `[your-index-endpoint-id]` with the Index Endpoint ID and run the cell. You can check the ID on [the Vector Search Console > INDEX ENDPOINTS tab](https://console.cloud.google.com/vertex-ai/matching-engine/index-endpoints)."
   ]
  },
  {
   "cell_type": "code",
   "execution_count": null,
   "metadata": {
    "id": "E0OFnirF-6Rk"
   },
   "outputs": [],
   "source": [
    "my_index_endpoint_id = \"[your-index-endpoint-id]\"  # @param {type:\"string\"}\n",
    "my_index_endpoint = aiplatform.MatchingEngineIndexEndpoint(my_index_endpoint_id)"
   ]
  }
 ],
 "metadata": {
  "colab": {
   "provenance": []
  },
  "environment": {
   "kernel": "conda-root-py",
   "name": "workbench-notebooks.m118",
   "type": "gcloud",
   "uri": "us-docker.pkg.dev/deeplearning-platform-release/gcr.io/workbench-notebooks:m118"
  },
  "kernelspec": {
   "display_name": "Python 3 (ipykernel) (Local)",
   "language": "python",
   "name": "conda-root-py"
  },
  "language_info": {
   "codemirror_mode": {
    "name": "ipython",
    "version": 3
   },
   "file_extension": ".py",
   "mimetype": "text/x-python",
   "name": "python",
   "nbconvert_exporter": "python",
   "pygments_lexer": "ipython3",
   "version": "3.10.13"
  }
 },
 "nbformat": 4,
 "nbformat_minor": 4
}
